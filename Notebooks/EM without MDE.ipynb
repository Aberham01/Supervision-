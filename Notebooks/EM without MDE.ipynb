{
  "nbformat": 4,
  "nbformat_minor": 0,
  "metadata": {
    "colab": {
      "name": "ABt-Buy62F1.ipynb",
      "provenance": [],
      "machine_shape": "hm"
    },
    "kernelspec": {
      "name": "python3",
      "display_name": "Python 3"
    },
    "accelerator": "GPU"
  },
  "cells": [
    {
      "cell_type": "code",
      "metadata": {
        "id": "FvXPSN8jeMvK",
        "outputId": "d0322578-2103-42c5-a33f-faa30b849fb6",
        "colab": {
          "base_uri": "https://localhost:8080/",
          "height": 34
        }
      },
      "source": [
        "from google.colab import drive\n",
        "drive.mount('/content/drive')\n"
      ],
      "execution_count": null,
      "outputs": [
        {
          "output_type": "stream",
          "text": [
            "Mounted at /content/drive\n"
          ],
          "name": "stdout"
        }
      ]
    },
    {
      "cell_type": "code",
      "metadata": {
        "id": "_KGDDkE_C9nH",
        "outputId": "7fe4da6e-8c63-45fc-9345-ba0d5ca3fcf8",
        "colab": {
          "base_uri": "https://localhost:8080/",
          "height": 136
        }
      },
      "source": [
        "import numpy as np \n",
        "import pandas as pd \n",
        "import matplotlib.pyplot as plt \n",
        "try:\n",
        "    import deepmatcher\n",
        "except:\n",
        "    !pip install -qqq deepmatcher\n",
        "import deepmatcher  as dm \n",
        "import torch\n",
        "torch.cuda.is_available()\n",
        "import json\n",
        "from sklearn.model_selection import train_test_split"
      ],
      "execution_count": null,
      "outputs": [
        {
          "output_type": "stream",
          "text": [
            "\u001b[K     |████████████████████████████████| 51kB 3.8MB/s \n",
            "\u001b[K     |████████████████████████████████| 51kB 5.2MB/s \n",
            "\u001b[K     |████████████████████████████████| 296kB 14.9MB/s \n",
            "\u001b[?25h  Building wheel for deepmatcher (setup.py) ... \u001b[?25l\u001b[?25hdone\n",
            "  Building wheel for fasttextmirror (setup.py) ... \u001b[?25lerror\n",
            "\u001b[31m  ERROR: Failed building wheel for fasttextmirror\u001b[0m\n",
            "\u001b[?25h    Running setup.py install for fasttextmirror ... \u001b[?25l\u001b[?25hdone\n"
          ],
          "name": "stdout"
        }
      ]
    },
    {
      "cell_type": "code",
      "metadata": {
        "id": "abc6J6FNDLe8",
        "outputId": "32f1a21e-2184-4c0a-ba05-fd7804d8ec7c",
        "colab": {
          "base_uri": "https://localhost:8080/",
          "height": 391
        }
      },
      "source": [
        "df1 = pd.read_csv(\"/content/drive/My Drive/AbtBuyData/tableA.csv\")\n",
        "df2 = pd.read_csv(\"/content/drive/My Drive/AbtBuyData/tableB.csv\") \n",
        "df = pd.DataFrame(columns = ['pair_id', 'label','left_name', 'left_description', 'left_price','right_name','right_description','right_price'])\n",
        "dfTr=pd.read_csv(\"/content/drive/My Drive/AbtBuyData/train.csv\")\n",
        "dfTs=pd.read_csv(\"/content/drive/My Drive/AbtBuyData/test.csv\")\n",
        "dfVl=pd.read_csv(\"/content/drive/My Drive/AbtBuyData/valid.csv\")\n",
        "\n",
        "dfTrNew = pd.DataFrame(columns = ['pair_id', 'label','left_name', 'left_description', 'left_price','right_name','right_description','right_price'])\n",
        "for ind in dfTr.index:\n",
        "  pair_id=str(dfTr['ltable_id'][ind])+\"#\"+str(dfTr[\"rtable_id\"][ind])\n",
        "  dfTrNew = dfTrNew.append({'pair_id': pair_id, 'label': dfTr['label'][ind], 'left_name': df1['name'][dfTr['ltable_id'][ind]],'left_description':df1['description'][dfTr['ltable_id'][ind]],'left_price':df1['price'][dfTr['ltable_id'][ind]],'right_name':df2['name'][dfTr['rtable_id'][ind]],'right_description':df2['description'][dfTr['rtable_id'][ind]],'right_price':df2['price'][dfTr['rtable_id'][ind]]}, ignore_index=True)\n",
        "\n",
        "dfTsNew = pd.DataFrame(columns = ['pair_id', 'label','left_name', 'left_description', 'left_price','right_name','right_description','right_price'])\n",
        "for ind in dfTs.index:\n",
        "  pair_id=str(dfTs['ltable_id'][ind])+\"#\"+str(dfTs[\"rtable_id\"][ind])\n",
        "  dfTsNew = dfTsNew.append({'pair_id': pair_id, 'label': dfTs['label'][ind], 'left_name': df1['name'][dfTs['ltable_id'][ind]],'left_description':df1['description'][dfTs['ltable_id'][ind]],'left_price':df1['price'][dfTs['ltable_id'][ind]],'right_name':df2['name'][dfTs['rtable_id'][ind]],'right_description':df2['description'][dfTs['rtable_id'][ind]],'right_price':df2['price'][dfTs['rtable_id'][ind]]}, ignore_index=True)\n",
        "\n",
        "dfVlNew = pd.DataFrame(columns = ['pair_id', 'label','left_name', 'left_description', 'left_price','right_name','right_description','right_price'])\n",
        "for ind in dfVl.index:\n",
        "  pair_id=str(dfVl['ltable_id'][ind])+\"#\"+str(dfVl[\"rtable_id\"][ind])\n",
        "  dfVlNew= dfVlNew.append({'pair_id': pair_id, 'label': dfVl['label'][ind], 'left_name': df1['name'][dfVl['ltable_id'][ind]],'left_description':df1['description'][dfVl['ltable_id'][ind]],'left_price':df1['price'][dfVl['ltable_id'][ind]],'right_name':df2['name'][dfVl['rtable_id'][ind]],'right_description':df2['description'][dfVl['rtable_id'][ind]],'right_price':df2['price'][dfVl['rtable_id'][ind]]}, ignore_index=True)\n",
        "\n",
        "dfTrNew.head()"
      ],
      "execution_count": null,
      "outputs": [
        {
          "output_type": "execute_result",
          "data": {
            "text/html": [
              "<div>\n",
              "<style scoped>\n",
              "    .dataframe tbody tr th:only-of-type {\n",
              "        vertical-align: middle;\n",
              "    }\n",
              "\n",
              "    .dataframe tbody tr th {\n",
              "        vertical-align: top;\n",
              "    }\n",
              "\n",
              "    .dataframe thead th {\n",
              "        text-align: right;\n",
              "    }\n",
              "</style>\n",
              "<table border=\"1\" class=\"dataframe\">\n",
              "  <thead>\n",
              "    <tr style=\"text-align: right;\">\n",
              "      <th></th>\n",
              "      <th>pair_id</th>\n",
              "      <th>label</th>\n",
              "      <th>left_name</th>\n",
              "      <th>left_description</th>\n",
              "      <th>left_price</th>\n",
              "      <th>right_name</th>\n",
              "      <th>right_description</th>\n",
              "      <th>right_price</th>\n",
              "    </tr>\n",
              "  </thead>\n",
              "  <tbody>\n",
              "    <tr>\n",
              "      <th>0</th>\n",
              "      <td>730#775</td>\n",
              "      <td>0</td>\n",
              "      <td>lg 24 ' lds4821ww semi integrated built in whi...</td>\n",
              "      <td>lg 24 ' lds4821ww semi integrated built in whi...</td>\n",
              "      <td>NaN</td>\n",
              "      <td>lg ldf6920bb fully integrated dishwasher</td>\n",
              "      <td>NaN</td>\n",
              "      <td>NaN</td>\n",
              "    </tr>\n",
              "    <tr>\n",
              "      <th>1</th>\n",
              "      <td>670#820</td>\n",
              "      <td>0</td>\n",
              "      <td>speck seethru clear hard shell case for macboo...</td>\n",
              "      <td>speck seethru clear hard shell case for macboo...</td>\n",
              "      <td>NaN</td>\n",
              "      <td>speck products seethru case for apple 13 ' mac...</td>\n",
              "      <td>plastic pink</td>\n",
              "      <td>NaN</td>\n",
              "    </tr>\n",
              "    <tr>\n",
              "      <th>2</th>\n",
              "      <td>497#239</td>\n",
              "      <td>0</td>\n",
              "      <td>denon blu-ray disc dvd/cd player dvd3800bdci</td>\n",
              "      <td>denon blu-ray disc dvd/cd player dvd3800bdci 1...</td>\n",
              "      <td>1999.0</td>\n",
              "      <td>denon dvd-2930ci dvd player dvd2930ci</td>\n",
              "      <td>dvd + rw , dvd-rw , cd-rw dvd video , dvd audi...</td>\n",
              "      <td>448.00</td>\n",
              "    </tr>\n",
              "    <tr>\n",
              "      <th>3</th>\n",
              "      <td>644#299</td>\n",
              "      <td>0</td>\n",
              "      <td>panasonic dect 6.0 expandable digital cordless...</td>\n",
              "      <td>panasonic dect 6.0 expandable digital cordless...</td>\n",
              "      <td>NaN</td>\n",
              "      <td>panasonic kx-tg1032s dual handset digital cord...</td>\n",
              "      <td>1 x phone line ( s ) headset jack silver</td>\n",
              "      <td>61.14</td>\n",
              "    </tr>\n",
              "    <tr>\n",
              "      <th>4</th>\n",
              "      <td>464#32</td>\n",
              "      <td>0</td>\n",
              "      <td>sony silver minidv handycam camcorder dcrhc52</td>\n",
              "      <td>sony silver minidv handycam camcorder dcrhc52 ...</td>\n",
              "      <td>NaN</td>\n",
              "      <td>sony minidv head cleaner dvm12cld</td>\n",
              "      <td>head cleaner</td>\n",
              "      <td>7.95</td>\n",
              "    </tr>\n",
              "  </tbody>\n",
              "</table>\n",
              "</div>"
            ],
            "text/plain": [
              "   pair_id  ... right_price\n",
              "0  730#775  ...         NaN\n",
              "1  670#820  ...         NaN\n",
              "2  497#239  ...      448.00\n",
              "3  644#299  ...       61.14\n",
              "4   464#32  ...        7.95\n",
              "\n",
              "[5 rows x 8 columns]"
            ]
          },
          "metadata": {
            "tags": []
          },
          "execution_count": 5
        }
      ]
    },
    {
      "cell_type": "code",
      "metadata": {
        "id": "1IHBGnLeDgY6"
      },
      "source": [
        "train = dfTrNew\n",
        "test= dfTsNew\n",
        "validation= dfVlNew"
      ],
      "execution_count": null,
      "outputs": []
    },
    {
      "cell_type": "code",
      "metadata": {
        "id": "rgrEAXA9Dp3b"
      },
      "source": [
        "train.to_csv(r'/content/drive/My Drive/AbtBuyData/trainNew.csv',index=False)\n",
        "test.to_csv(r'/content/drive/My Drive/AbtBuyData/testNew.csv',index=False)\n",
        "validation.to_csv(r'/content/drive/My Drive/AbtBuyData/validationNew.csv',index=False)"
      ],
      "execution_count": null,
      "outputs": []
    },
    {
      "cell_type": "code",
      "metadata": {
        "id": "IU_z1n-bDt4x",
        "outputId": "32e77e25-3c7c-403a-b2a8-e9b33c8b20ca",
        "colab": {
          "base_uri": "https://localhost:8080/",
          "height": 272
        }
      },
      "source": [
        "train, validation, test = dm.data.process(\n",
        "    path=r'/content/drive/My Drive/AbtBuyData',\n",
        "    train='trainNew.csv',\n",
        "    validation='validationNew.csv',\n",
        "    test='testNew.csv',\n",
        "    id_attr='pair_id',\n",
        "    label_attr='label',\n",
        "    left_prefix='left_',\n",
        "    right_prefix='right_',\n",
        "    embeddings='fasttext.en.bin')"
      ],
      "execution_count": null,
      "outputs": [
        {
          "output_type": "stream",
          "text": [
            "WARNING:deepmatcher.data.dataset:Rebuilding data cache because: ['One or more data files have been modified.']\n",
            "\n",
            "Reading and processing data from \"/content/drive/My Drive/AbtBuyData/trainNew.csv\"\n",
            "0% [############################# ] 100% | ETA: 00:00:00\n",
            "Reading and processing data from \"/content/drive/My Drive/AbtBuyData/validationNew.csv\"\n",
            "0% [############################# ] 100% | ETA: 00:00:00\n",
            "Reading and processing data from \"/content/drive/My Drive/AbtBuyData/testNew.csv\"\n",
            "0% [############################# ] 100% | ETA: 00:00:00\n",
            "Building vocabulary\n",
            "0% [######] 100% | ETA: 00:00:00\n",
            "Total time elapsed: 00:00:00\n",
            "\n",
            "Computing principal components\n",
            "0% [######] 100% | ETA: 00:00:00\n",
            "Total time elapsed: 00:00:04\n"
          ],
          "name": "stderr"
        }
      ]
    },
    {
      "cell_type": "code",
      "metadata": {
        "id": "YvCwtAQsHq_0",
        "outputId": "841b3e04-c38c-4b58-99f9-71b0ed78fe6c",
        "colab": {
          "base_uri": "https://localhost:8080/",
          "height": 85
        }
      },
      "source": [
        "!ls -rtla /root/.vector_cache"
      ],
      "execution_count": null,
      "outputs": [
        {
          "output_type": "stream",
          "text": [
            "total 8294620\n",
            "drwx------ 1 root root       4096 Oct  6 10:26 ..\n",
            "drwxr-xr-x 2 root root       4096 Oct  6 10:26 .\n",
            "-rw-r--r-- 1 root root 8493673445 Oct  6 10:28 wiki.en.bin\n"
          ],
          "name": "stdout"
        }
      ]
    },
    {
      "cell_type": "code",
      "metadata": {
        "id": "XPKBEaAWFAWn"
      },
      "source": [
        "model = dm.MatchingModel(attr_summarizer='hybrid')"
      ],
      "execution_count": null,
      "outputs": []
    },
    {
      "cell_type": "code",
      "metadata": {
        "id": "TNXaHsMWseLK",
        "outputId": "7f4cbb0b-9cff-49f0-e594-b636dd288b0c",
        "colab": {
          "base_uri": "https://localhost:8080/",
          "height": 1000
        }
      },
      "source": [
        "model.run_train(\n",
        "    train,\n",
        "    validation,\n",
        "    epochs=10,\n",
        "    batch_size=3,\n",
        "    best_save_path='/content/drive/My Drive/deepmatcherresult/dm_bestpathFt.ph',\n",
        "    pos_neg_ratio=3)"
      ],
      "execution_count": null,
      "outputs": [
        {
          "output_type": "stream",
          "text": [
            "* Number of trainable parameters: 7133105\n",
            "===>  TRAIN Epoch 1\n"
          ],
          "name": "stdout"
        },
        {
          "output_type": "stream",
          "text": [
            "/usr/local/lib/python3.6/dist-packages/torch/nn/functional.py:2352: UserWarning: reduction: 'mean' divides the total loss by both the batch size and the support size.'batchmean' divides only by the batch size, and aligns with the KL div math definition.'mean' will be changed to behave the same as 'batchmean' in the next major release.\n",
            "  warnings.warn(\"reduction: 'mean' divides the total loss by both the batch size and the support size.\"\n",
            "0% [██████████████████████████████] 100% | ETA: 00:00:00\n",
            "Total time elapsed: 00:03:42\n"
          ],
          "name": "stderr"
        },
        {
          "output_type": "stream",
          "text": [
            "Finished Epoch 1 || Run Time:  209.1 | Load Time:   13.0 || F1:  39.23 | Prec:  44.79 | Rec:  34.90 || Ex/s:  25.85\n",
            "\n",
            "===>  EVAL Epoch 1\n"
          ],
          "name": "stdout"
        },
        {
          "output_type": "stream",
          "text": [
            "0% [██████████████████████████████] 100% | ETA: 00:00:00\n",
            "Total time elapsed: 00:00:36\n"
          ],
          "name": "stderr"
        },
        {
          "output_type": "stream",
          "text": [
            "Finished Epoch 1 || Run Time:   32.1 | Load Time:    4.4 || F1:  54.22 | Prec:  46.23 | Rec:  65.53 || Ex/s:  52.41\n",
            "\n",
            "* Best F1: tensor(54.2169, device='cuda:0')\n",
            "Saving best model...\n",
            "Done.\n",
            "---------------------\n",
            "\n",
            "===>  TRAIN Epoch 2\n"
          ],
          "name": "stdout"
        },
        {
          "output_type": "stream",
          "text": [
            "0% [██████████████████████████████] 100% | ETA: 00:00:00\n",
            "Total time elapsed: 00:03:41\n"
          ],
          "name": "stderr"
        },
        {
          "output_type": "stream",
          "text": [
            "Finished Epoch 2 || Run Time:  208.9 | Load Time:   13.0 || F1:  67.19 | Prec:  64.76 | Rec:  69.81 || Ex/s:  25.88\n",
            "\n",
            "===>  EVAL Epoch 2\n"
          ],
          "name": "stdout"
        },
        {
          "output_type": "stream",
          "text": [
            "0% [██████████████████████████████] 100% | ETA: 00:00:00\n",
            "Total time elapsed: 00:00:35\n"
          ],
          "name": "stderr"
        },
        {
          "output_type": "stream",
          "text": [
            "Finished Epoch 2 || Run Time:   31.6 | Load Time:    4.3 || F1:  58.94 | Prec:  50.70 | Rec:  70.39 || Ex/s:  53.26\n",
            "\n",
            "* Best F1: tensor(58.9431, device='cuda:0')\n",
            "Saving best model...\n",
            "Done.\n",
            "---------------------\n",
            "\n",
            "===>  TRAIN Epoch 3\n"
          ],
          "name": "stdout"
        },
        {
          "output_type": "stream",
          "text": [
            "0% [██████████████████████████████] 100% | ETA: 00:00:00\n",
            "Total time elapsed: 00:03:36\n"
          ],
          "name": "stderr"
        },
        {
          "output_type": "stream",
          "text": [
            "Finished Epoch 3 || Run Time:  204.0 | Load Time:   12.8 || F1:  77.43 | Prec:  73.89 | Rec:  81.33 || Ex/s:  26.49\n",
            "\n",
            "===>  EVAL Epoch 3\n"
          ],
          "name": "stdout"
        },
        {
          "output_type": "stream",
          "text": [
            "0% [██████████████████████████████] 100% | ETA: 00:00:00\n",
            "Total time elapsed: 00:00:34\n"
          ],
          "name": "stderr"
        },
        {
          "output_type": "stream",
          "text": [
            "Finished Epoch 3 || Run Time:   30.3 | Load Time:    4.2 || F1:  62.08 | Prec:  54.38 | Rec:  72.33 || Ex/s:  55.55\n",
            "\n",
            "* Best F1: tensor(62.0833, device='cuda:0')\n",
            "Saving best model...\n",
            "Done.\n",
            "---------------------\n",
            "\n",
            "===>  TRAIN Epoch 4\n"
          ],
          "name": "stdout"
        },
        {
          "output_type": "stream",
          "text": [
            "0% [██████████████████████████████] 100% | ETA: 00:00:00\n",
            "Total time elapsed: 00:03:34\n"
          ],
          "name": "stderr"
        },
        {
          "output_type": "stream",
          "text": [
            "Finished Epoch 4 || Run Time:  202.2 | Load Time:   12.7 || F1:  84.08 | Prec:  81.34 | Rec:  87.01 || Ex/s:  26.73\n",
            "\n",
            "===>  EVAL Epoch 4\n"
          ],
          "name": "stdout"
        },
        {
          "output_type": "stream",
          "text": [
            "0% [██████████████████████████████] 100% | ETA: 00:00:00\n",
            "Total time elapsed: 00:00:34\n"
          ],
          "name": "stderr"
        },
        {
          "output_type": "stream",
          "text": [
            "Finished Epoch 4 || Run Time:   30.7 | Load Time:    4.2 || F1:  62.55 | Prec:  54.29 | Rec:  73.79 || Ex/s:  54.80\n",
            "\n",
            "* Best F1: tensor(62.5514, device='cuda:0')\n",
            "Saving best model...\n",
            "Done.\n",
            "---------------------\n",
            "\n",
            "===>  TRAIN Epoch 5\n"
          ],
          "name": "stdout"
        },
        {
          "output_type": "stream",
          "text": [
            "0% [██████████████████████████████] 100% | ETA: 00:00:00\n",
            "Total time elapsed: 00:03:31\n"
          ],
          "name": "stderr"
        },
        {
          "output_type": "stream",
          "text": [
            "Finished Epoch 5 || Run Time:  199.2 | Load Time:   12.5 || F1:  87.61 | Prec:  85.25 | Rec:  90.10 || Ex/s:  27.12\n",
            "\n",
            "===>  EVAL Epoch 5\n"
          ],
          "name": "stdout"
        },
        {
          "output_type": "stream",
          "text": [
            "0% [██████████████████████████████] 100% | ETA: 00:00:00\n",
            "Total time elapsed: 00:00:34\n"
          ],
          "name": "stderr"
        },
        {
          "output_type": "stream",
          "text": [
            "Finished Epoch 5 || Run Time:   30.5 | Load Time:    4.2 || F1:  64.89 | Prec:  59.84 | Rec:  70.87 || Ex/s:  55.12\n",
            "\n",
            "* Best F1: tensor(64.8889, device='cuda:0')\n",
            "Saving best model...\n",
            "Done.\n",
            "---------------------\n",
            "\n",
            "===>  TRAIN Epoch 6\n"
          ],
          "name": "stdout"
        },
        {
          "output_type": "stream",
          "text": [
            "0% [██████████████████████████████] 100% | ETA: 00:00:00\n",
            "Total time elapsed: 00:03:30\n"
          ],
          "name": "stderr"
        },
        {
          "output_type": "stream",
          "text": [
            "Finished Epoch 6 || Run Time:  197.8 | Load Time:   12.5 || F1:  90.30 | Prec:  88.47 | Rec:  92.21 || Ex/s:  27.32\n",
            "\n",
            "===>  EVAL Epoch 6\n"
          ],
          "name": "stdout"
        },
        {
          "output_type": "stream",
          "text": [
            "0% [██████████████████████████████] 100% | ETA: 00:00:00\n",
            "Total time elapsed: 00:00:34\n"
          ],
          "name": "stderr"
        },
        {
          "output_type": "stream",
          "text": [
            "Finished Epoch 6 || Run Time:   30.1 | Load Time:    4.2 || F1:  65.09 | Prec:  63.30 | Rec:  66.99 || Ex/s:  55.84\n",
            "\n",
            "* Best F1: tensor(65.0943, device='cuda:0')\n",
            "Saving best model...\n",
            "Done.\n",
            "---------------------\n",
            "\n",
            "===>  TRAIN Epoch 7\n"
          ],
          "name": "stdout"
        },
        {
          "output_type": "stream",
          "text": [
            "0% [██████████████████████████████] 100% | ETA: 00:00:00\n",
            "Total time elapsed: 00:03:32\n"
          ],
          "name": "stderr"
        },
        {
          "output_type": "stream",
          "text": [
            "Finished Epoch 7 || Run Time:  200.0 | Load Time:   12.6 || F1:  93.54 | Prec:  91.99 | Rec:  95.13 || Ex/s:  27.01\n",
            "\n",
            "===>  EVAL Epoch 7\n"
          ],
          "name": "stdout"
        },
        {
          "output_type": "stream",
          "text": [
            "0% [██████████████████████████████] 100% | ETA: 00:00:00\n",
            "Total time elapsed: 00:00:34\n"
          ],
          "name": "stderr"
        },
        {
          "output_type": "stream",
          "text": [
            "Finished Epoch 7 || Run Time:   30.5 | Load Time:    4.2 || F1:  63.55 | Prec:  64.50 | Rec:  62.62 || Ex/s:  55.19\n",
            "\n",
            "---------------------\n",
            "\n",
            "===>  TRAIN Epoch 8\n"
          ],
          "name": "stdout"
        },
        {
          "output_type": "stream",
          "text": [
            "0% [██████████████████████████████] 100% | ETA: 00:00:00\n",
            "Total time elapsed: 00:03:32\n"
          ],
          "name": "stderr"
        },
        {
          "output_type": "stream",
          "text": [
            "Finished Epoch 8 || Run Time:  199.9 | Load Time:   12.6 || F1:  94.21 | Prec:  93.31 | Rec:  95.13 || Ex/s:  27.03\n",
            "\n",
            "===>  EVAL Epoch 8\n"
          ],
          "name": "stdout"
        },
        {
          "output_type": "stream",
          "text": [
            "0% [██████████████████████████████] 100% | ETA: 00:00:00\n",
            "Total time elapsed: 00:00:34\n"
          ],
          "name": "stderr"
        },
        {
          "output_type": "stream",
          "text": [
            "Finished Epoch 8 || Run Time:   30.2 | Load Time:    4.2 || F1:  61.83 | Prec:  59.73 | Rec:  64.08 || Ex/s:  55.69\n",
            "\n",
            "---------------------\n",
            "\n",
            "===>  TRAIN Epoch 9\n"
          ],
          "name": "stdout"
        },
        {
          "output_type": "stream",
          "text": [
            "0% [██████████████████████████████] 100% | ETA: 00:00:00\n",
            "Total time elapsed: 00:03:36\n"
          ],
          "name": "stderr"
        },
        {
          "output_type": "stream",
          "text": [
            "Finished Epoch 9 || Run Time:  203.6 | Load Time:   12.8 || F1:  95.58 | Prec:  94.59 | Rec:  96.59 || Ex/s:  26.54\n",
            "\n",
            "===>  EVAL Epoch 9\n"
          ],
          "name": "stdout"
        },
        {
          "output_type": "stream",
          "text": [
            "0% [██████████████████████████████] 100% | ETA: 00:00:00\n",
            "Total time elapsed: 00:00:34\n"
          ],
          "name": "stderr"
        },
        {
          "output_type": "stream",
          "text": [
            "Finished Epoch 9 || Run Time:   30.8 | Load Time:    4.3 || F1:  61.82 | Prec:  66.48 | Rec:  57.77 || Ex/s:  54.70\n",
            "\n",
            "---------------------\n",
            "\n",
            "===>  TRAIN Epoch 10\n"
          ],
          "name": "stdout"
        },
        {
          "output_type": "stream",
          "text": [
            "0% [██████████████████████████████] 100% | ETA: 00:00:00\n",
            "Total time elapsed: 00:03:35\n"
          ],
          "name": "stderr"
        },
        {
          "output_type": "stream",
          "text": [
            "Finished Epoch 10 || Run Time:  202.6 | Load Time:   12.7 || F1:  96.30 | Prec:  95.53 | Rec:  97.08 || Ex/s:  26.67\n",
            "\n",
            "===>  EVAL Epoch 10\n"
          ],
          "name": "stdout"
        },
        {
          "output_type": "stream",
          "text": [
            "0% [██████████████████████████████] 100% | ETA: 00:00:00\n",
            "Total time elapsed: 00:00:35\n"
          ],
          "name": "stderr"
        },
        {
          "output_type": "stream",
          "text": [
            "Finished Epoch 10 || Run Time:   31.4 | Load Time:    4.3 || F1:  61.18 | Prec:  65.03 | Rec:  57.77 || Ex/s:  53.58\n",
            "\n",
            "---------------------\n",
            "\n",
            "Loading best model...\n",
            "Training done.\n"
          ],
          "name": "stdout"
        },
        {
          "output_type": "execute_result",
          "data": {
            "text/plain": [
              "tensor(65.0943, device='cuda:0')"
            ]
          },
          "metadata": {
            "tags": []
          },
          "execution_count": 15
        }
      ]
    },
    {
      "cell_type": "code",
      "metadata": {
        "id": "hXK-Q-5znvwa",
        "outputId": "acbed811-d9b3-46ff-a8fa-28685bf05e71",
        "colab": {
          "base_uri": "https://localhost:8080/",
          "height": 119
        }
      },
      "source": [
        "model.run_eval(test,batch_size=8, device='cuda:0', progress_style='bar', log_freq=5, sort_in_buckets=None)\n"
      ],
      "execution_count": null,
      "outputs": [
        {
          "output_type": "stream",
          "text": [
            "===>  EVAL Epoch 6\n"
          ],
          "name": "stdout"
        },
        {
          "output_type": "stream",
          "text": [
            "0% [██████████████████████████████] 100% | ETA: 00:00:00\n",
            "Total time elapsed: 00:00:16\n"
          ],
          "name": "stderr"
        },
        {
          "output_type": "stream",
          "text": [
            "Finished Epoch 6 || Run Time:   11.9 | Load Time:    4.6 || F1:  61.35 | Prec:  61.06 | Rec:  61.65 || Ex/s: 115.94\n",
            "\n"
          ],
          "name": "stdout"
        },
        {
          "output_type": "execute_result",
          "data": {
            "text/plain": [
              "tensor(61.3527, device='cuda:0')"
            ]
          },
          "metadata": {
            "tags": []
          },
          "execution_count": 16
        }
      ]
    },
    {
      "cell_type": "code",
      "metadata": {
        "id": "xD_Y1e1tbSyY"
      },
      "source": [
        "model.save_state(r'/content/drive/My Drive/DeepMatcherTest/finalmodel.pth')\n",
        "model.save_state(r'/content/drive/My Drive/DeepMatcherTest/finalmodel.sav')"
      ],
      "execution_count": null,
      "outputs": []
    }
  ]
}