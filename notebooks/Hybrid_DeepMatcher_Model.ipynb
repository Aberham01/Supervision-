{
  "nbformat": 4,
  "nbformat_minor": 0,
  "metadata": {
    "colab": {
      "name": "Hybrid DeepMatcheer_Model.ipynb",
      "provenance": [],
      "machine_shape": "hm"
    },
    "kernelspec": {
      "name": "python3",
      "display_name": "Python 3"
    },
    "accelerator": "GPU"
  },
  "cells": [
    {
      "cell_type": "code",
      "metadata": {
        "id": "FvXPSN8jeMvK",
        "colab_type": "code",
        "colab": {
          "base_uri": "https://localhost:8080/",
          "height": 122
        },
        "outputId": "14c953eb-e2b8-4e2a-bb69-4a3f802d4804"
      },
      "source": [
        "from google.colab import drive\n",
        "drive.mount('/content/drive')\n"
      ],
      "execution_count": null,
      "outputs": [
        {
          "output_type": "stream",
          "text": [
            "Go to this URL in a browser: https://accounts.google.com/o/oauth2/auth?client_id=947318989803-6bn6qk8qdgf4n4g3pfee6491hc0brc4i.apps.googleusercontent.com&redirect_uri=urn%3aietf%3awg%3aoauth%3a2.0%3aoob&response_type=code&scope=email%20https%3a%2f%2fwww.googleapis.com%2fauth%2fdocs.test%20https%3a%2f%2fwww.googleapis.com%2fauth%2fdrive%20https%3a%2f%2fwww.googleapis.com%2fauth%2fdrive.photos.readonly%20https%3a%2f%2fwww.googleapis.com%2fauth%2fpeopleapi.readonly\n",
            "\n",
            "Enter your authorization code:\n",
            "··········\n",
            "Mounted at /content/drive\n"
          ],
          "name": "stdout"
        }
      ]
    },
    {
      "cell_type": "code",
      "metadata": {
        "id": "Yp5MRO-xVWKC",
        "colab_type": "code",
        "colab": {
          "base_uri": "https://localhost:8080/",
          "height": 136
        },
        "outputId": "58dc054a-5bb0-4a06-aef3-fed82c31e95d"
      },
      "source": [
        "import numpy as np \n",
        "import pandas as pd \n",
        "import matplotlib.pyplot as plt \n",
        "try:\n",
        "    import deepmatcher\n",
        "except:\n",
        "    !pip install -qqq deepmatcher\n",
        "import deepmatcher  as dm \n",
        "import torch\n",
        "torch.cuda.is_available()\n",
        "import json\n",
        "from sklearn.model_selection import train_test_split"
      ],
      "execution_count": null,
      "outputs": [
        {
          "output_type": "stream",
          "text": [
            "\u001b[K     |████████████████████████████████| 51kB 1.9MB/s \n",
            "\u001b[K     |████████████████████████████████| 51kB 5.0MB/s \n",
            "\u001b[K     |████████████████████████████████| 296kB 11.0MB/s \n",
            "\u001b[?25h  Building wheel for deepmatcher (setup.py) ... \u001b[?25l\u001b[?25hdone\n",
            "  Building wheel for fasttextmirror (setup.py) ... \u001b[?25lerror\n",
            "\u001b[31m  ERROR: Failed building wheel for fasttextmirror\u001b[0m\n",
            "\u001b[?25h    Running setup.py install for fasttextmirror ... \u001b[?25l\u001b[?25hdone\n"
          ],
          "name": "stdout"
        }
      ]
    },
    {
      "cell_type": "code",
      "metadata": {
        "id": "kTlU6gyO8ZRT",
        "colab_type": "code",
        "colab": {}
      },
      "source": [
        "dfs = []\n",
        "for line in open(r'/content/drive/My Drive/computers_train_xlarge.json', 'r'):\n",
        "        x = pd.DataFrame(json.loads(line),index=[0])\n",
        "        dfs.append(x)\n",
        "                   \n",
        "df = pd.concat(dfs)"
      ],
      "execution_count": null,
      "outputs": []
    },
    {
      "cell_type": "code",
      "metadata": {
        "id": "SkALQKuZhvu8",
        "colab_type": "code",
        "colab": {}
      },
      "source": [
        "df1 = df.loc[df['label']==1]\n",
        "df2 = df.loc[df['label']==0][:len(df1)]"
      ],
      "execution_count": null,
      "outputs": []
    },
    {
      "cell_type": "code",
      "metadata": {
        "id": "9Otqb896St8n",
        "colab_type": "code",
        "colab": {}
      },
      "source": [
        "df = pd.concat([df1,df2])"
      ],
      "execution_count": null,
      "outputs": []
    },
    {
      "cell_type": "code",
      "metadata": {
        "id": "X81fWitRjZMv",
        "colab_type": "code",
        "colab": {}
      },
      "source": [
        "df = df.sample(frac=1).reset_index(drop=True)"
      ],
      "execution_count": null,
      "outputs": []
    },
    {
      "cell_type": "code",
      "metadata": {
        "id": "gkq5CpSwexYE",
        "colab_type": "code",
        "colab": {
          "base_uri": "https://localhost:8080/",
          "height": 323
        },
        "outputId": "f93ce75f-2a9f-4a80-b70e-2049b5c1f8a2"
      },
      "source": [
        "new_columns=[]\n",
        "for i in df.columns:\n",
        "  try:\n",
        "    n = i.split('_')\n",
        "    if n[1] != 'id':\n",
        "      n = n[1]+'_'+n[0]\n",
        "    else:\n",
        "      n= n[2]+'_'+n[1]+'_'+n[0]\n",
        "    print(n)\n",
        "  except:\n",
        "    n = i\n",
        "  new_columns.append(n)\n",
        "\n",
        "df.columns = new_columns"
      ],
      "execution_count": null,
      "outputs": [
        {
          "output_type": "stream",
          "text": [
            "left_id\n",
            "left_category\n",
            "left_id_cluster\n",
            "right_id\n",
            "right_category\n",
            "right_id_cluster\n",
            "left_brand\n",
            "right_brand\n",
            "left_description\n",
            "right_description\n",
            "left_keyValuePairs\n",
            "right_keyValuePairs\n",
            "left_price\n",
            "right_price\n",
            "left_specTableContent\n",
            "right_specTableContent\n",
            "left_title\n",
            "right_title\n"
          ],
          "name": "stdout"
        }
      ]
    },
    {
      "cell_type": "code",
      "metadata": {
        "id": "t5kw91WSoBt7",
        "colab_type": "code",
        "colab": {}
      },
      "source": [
        "columns_to_drop=['left_id_cluster','right_id_cluster','left_keyValuePairs', 'right_keyValuePairs']\n",
        "df=df.drop(columns_to_drop,axis=1)"
      ],
      "execution_count": null,
      "outputs": []
    },
    {
      "cell_type": "code",
      "metadata": {
        "id": "PcMvCZb7Zggw",
        "colab_type": "code",
        "colab": {}
      },
      "source": [
        "train, test = train_test_split(df, test_size=0.2, random_state=1)\n",
        "\n",
        "train, validation = train_test_split(train, test_size=0.25, random_state=1)\n",
        "\n",
        "del df"
      ],
      "execution_count": null,
      "outputs": []
    },
    {
      "cell_type": "code",
      "metadata": {
        "id": "WZ824xmzkuv4",
        "colab_type": "code",
        "colab": {}
      },
      "source": [
        "train = train.reset_index().drop('index',axis=1)\n",
        "test= test.reset_index().drop('index',axis=1)\n",
        "validation= validation.reset_index().drop('index',axis=1)"
      ],
      "execution_count": null,
      "outputs": []
    },
    {
      "cell_type": "code",
      "metadata": {
        "id": "tYvbXmhldASA",
        "colab_type": "code",
        "colab": {}
      },
      "source": [
        "train.to_csv(r'/content/drive/My Drive/DeepMatcherTest/train.csv',index=False)\n",
        "test.to_csv(r'/content/drive/My Drive/DeepMatcherTest/test.csv',index=False)\n",
        "validation.to_csv(r'/content/drive/My Drive/DeepMatcherTest/validation.csv',index=False)"
      ],
      "execution_count": null,
      "outputs": []
    },
    {
      "cell_type": "code",
      "metadata": {
        "id": "J7AqJD0nUxVP",
        "colab_type": "code",
        "colab": {
          "base_uri": "https://localhost:8080/",
          "height": 357
        },
        "outputId": "d7bb0d66-107c-49cb-dcc5-17cb04f75f11"
      },
      "source": [
        "train, validation, test = dm.data.process(\n",
        "    path=r'/content/drive/My Drive/DeepMatcherTest',\n",
        "    train='train.csv',\n",
        "    validation='validation.csv',\n",
        "    test='test.csv',\n",
        "    id_attr='pair_id',\n",
        "    label_attr='label',\n",
        "    ignore_columns=('left_id','right_id'),embeddings='glove.6B.50d'\n",
        "    )"
      ],
      "execution_count": null,
      "outputs": [
        {
          "output_type": "stream",
          "text": [
            "WARNING:deepmatcher.data.dataset:Rebuilding data cache because: ['One or more data files have been modified.']\n",
            "\n",
            "Reading and processing data from \"/content/drive/My Drive/DeepMatcherTest/train.csv\"\n",
            "0% [######                        ] 100% | ETA: 00:01:10\n",
            "Reading and processing data from \"/content/drive/My Drive/DeepMatcherTest/validation.csv\"\n",
            "0% [#######                       ] 100% | ETA: 00:00:18\n",
            "Reading and processing data from \"/content/drive/My Drive/DeepMatcherTest/test.csv\"\n",
            "/root/.vector_cache/glove.6B.zip: 862MB [06:26, 2.23MB/s]                           \n",
            " 99%|█████████▉| 396469/400000 [00:09<00:00, 41023.72it/s]\n",
            "Building vocabulary\n",
            "0% [############] 100% | ETA: 00:00:00\n",
            "Total time elapsed: 00:00:17\n",
            "\n",
            "Computing principal components\n",
            "0% [############] 100% | ETA: 00:00:00\n",
            "Total time elapsed: 00:04:20\n",
            "/usr/local/lib/python3.6/dist-packages/sklearn/decomposition/_truncated_svd.py:194: RuntimeWarning: invalid value encountered in true_divide\n",
            "  self.explained_variance_ratio_ = exp_var / full_var\n",
            "/usr/local/lib/python3.6/dist-packages/sklearn/decomposition/_truncated_svd.py:194: RuntimeWarning: invalid value encountered in true_divide\n",
            "  self.explained_variance_ratio_ = exp_var / full_var\n"
          ],
          "name": "stderr"
        }
      ]
    },
    {
      "cell_type": "code",
      "metadata": {
        "id": "VYp9kcvjr6AK",
        "colab_type": "code",
        "colab": {
          "base_uri": "https://localhost:8080/",
          "height": 530
        },
        "outputId": "5d4039db-a2a0-4a53-d1fa-0b652fdd77c4"
      },
      "source": [
        "train_table = train.get_raw_table()\n",
        "train_table.head()"
      ],
      "execution_count": null,
      "outputs": [
        {
          "output_type": "execute_result",
          "data": {
            "text/html": [
              "<div>\n",
              "<style scoped>\n",
              "    .dataframe tbody tr th:only-of-type {\n",
              "        vertical-align: middle;\n",
              "    }\n",
              "\n",
              "    .dataframe tbody tr th {\n",
              "        vertical-align: top;\n",
              "    }\n",
              "\n",
              "    .dataframe thead th {\n",
              "        text-align: right;\n",
              "    }\n",
              "</style>\n",
              "<table border=\"1\" class=\"dataframe\">\n",
              "  <thead>\n",
              "    <tr style=\"text-align: right;\">\n",
              "      <th></th>\n",
              "      <th>left_category</th>\n",
              "      <th>right_category</th>\n",
              "      <th>label</th>\n",
              "      <th>pair_id</th>\n",
              "      <th>left_brand</th>\n",
              "      <th>right_brand</th>\n",
              "      <th>left_description</th>\n",
              "      <th>right_description</th>\n",
              "      <th>left_price</th>\n",
              "      <th>right_price</th>\n",
              "      <th>left_specTableContent</th>\n",
              "      <th>right_specTableContent</th>\n",
              "      <th>left_title</th>\n",
              "      <th>right_title</th>\n",
              "    </tr>\n",
              "  </thead>\n",
              "  <tbody>\n",
              "    <tr>\n",
              "      <th>0</th>\n",
              "      <td>computers_and_accessories</td>\n",
              "      <td>computers_and_accessories</td>\n",
              "      <td>0</td>\n",
              "      <td>8837825#16995189</td>\n",
              "      <td></td>\n",
              "      <td>`` samsung '' @ en</td>\n",
              "      <td>`` disco solido ssd , 500gb de capacidad , 2.5...</td>\n",
              "      <td>`` samsung 's unique and innovative 3d v-nand ...</td>\n",
              "      <td></td>\n",
              "      <td></td>\n",
              "      <td></td>\n",
              "      <td></td>\n",
              "      <td>`` samsung 850 evo 500gb mz-75e500b/eu '' @ es</td>\n",
              "      <td>`` samsung 850 evo series m.2 1tb sata 6gbps s...</td>\n",
              "    </tr>\n",
              "    <tr>\n",
              "      <th>1</th>\n",
              "      <td>computers_and_accessories</td>\n",
              "      <td>computers_and_accessories</td>\n",
              "      <td>0</td>\n",
              "      <td>16272671#4537309</td>\n",
              "      <td></td>\n",
              "      <td>`` corsair '' @ en</td>\n",
              "      <td></td>\n",
              "      <td>`` ddr4 , 2400mhz , cl14 , 1.2v , xmp 2.0 , li...</td>\n",
              "      <td></td>\n",
              "      <td></td>\n",
              "      <td>categorie geheugen intern merk corsair product...</td>\n",
              "      <td>memory type ddr4 ( pc4-19200 ) capacity 32gb (...</td>\n",
              "      <td>`` corsair vengeance lpx cmk64gx4m4a2666c16 - ...</td>\n",
              "      <td>`` corsair vengeance lpx black 32gb ( 4x8gb ) ...</td>\n",
              "    </tr>\n",
              "    <tr>\n",
              "      <th>2</th>\n",
              "      <td>computers_and_accessories</td>\n",
              "      <td>computers_and_accessories</td>\n",
              "      <td>1</td>\n",
              "      <td>9115026#15088537</td>\n",
              "      <td></td>\n",
              "      <td></td>\n",
              "      <td></td>\n",
              "      <td>`` disco duro 3.5 , 10tb capacidad , sata 6gbp...</td>\n",
              "      <td></td>\n",
              "      <td></td>\n",
              "      <td></td>\n",
              "      <td></td>\n",
              "      <td>`` 10tb gold sata 6 gb/s 7200 rpm 256mb 3.5in ...</td>\n",
              "      <td>`` wd gold 10tb wd101kryz '' @ es</td>\n",
              "    </tr>\n",
              "    <tr>\n",
              "      <th>3</th>\n",
              "      <td>computers_and_accessories</td>\n",
              "      <td>computers_and_accessories</td>\n",
              "      <td>1</td>\n",
              "      <td>17253303#15348141</td>\n",
              "      <td>`` hp enterprise ''</td>\n",
              "      <td>`` hp enterprise ''</td>\n",
              "      <td>`` description : storageworks externalpart num...</td>\n",
              "      <td>`` description : hp 15/30gb dlt tape drive ( d...</td>\n",
              "      <td></td>\n",
              "      <td></td>\n",
              "      <td>specifications : category proliant sub-categor...</td>\n",
              "      <td>specifications : category proliant sub-categor...</td>\n",
              "      <td>`` 242469-001 hp storageworks external '' , ``...</td>\n",
              "      <td>`` hp 242469-001 15/30-gb ext scsi dlt '' , ``...</td>\n",
              "    </tr>\n",
              "    <tr>\n",
              "      <th>4</th>\n",
              "      <td>computers_and_accessories</td>\n",
              "      <td>computers_and_accessories</td>\n",
              "      <td>1</td>\n",
              "      <td>11118257#2335315</td>\n",
              "      <td></td>\n",
              "      <td>`` seagate ''</td>\n",
              "      <td>`` disco duro interno hdd seagate 1tb 3.5 ''</td>\n",
              "      <td>`` description:5 x seagate barracuda ( the pow...</td>\n",
              "      <td></td>\n",
              "      <td></td>\n",
              "      <td></td>\n",
              "      <td>specifications : category seagate harddrive su...</td>\n",
              "      <td>`` disco duro interno hdd seagate 1tb ''</td>\n",
              "      <td>`` st1000dm003 seagate 1-tb 7.2k 3.5 6g sata '...</td>\n",
              "    </tr>\n",
              "  </tbody>\n",
              "</table>\n",
              "</div>"
            ],
            "text/plain": [
              "               left_category  ...                                        right_title\n",
              "0  computers_and_accessories  ...  `` samsung 850 evo series m.2 1tb sata 6gbps s...\n",
              "1  computers_and_accessories  ...  `` corsair vengeance lpx black 32gb ( 4x8gb ) ...\n",
              "2  computers_and_accessories  ...                  `` wd gold 10tb wd101kryz '' @ es\n",
              "3  computers_and_accessories  ...  `` hp 242469-001 15/30-gb ext scsi dlt '' , ``...\n",
              "4  computers_and_accessories  ...  `` st1000dm003 seagate 1-tb 7.2k 3.5 6g sata '...\n",
              "\n",
              "[5 rows x 14 columns]"
            ]
          },
          "metadata": {
            "tags": []
          },
          "execution_count": 13
        }
      ]
    },
    {
      "cell_type": "code",
      "metadata": {
        "id": "z6dwur6Msc1n",
        "colab_type": "code",
        "colab": {}
      },
      "source": [
        "model = dm.MatchingModel(attr_summarizer='hybrid')"
      ],
      "execution_count": null,
      "outputs": []
    },
    {
      "cell_type": "code",
      "metadata": {
        "id": "TNXaHsMWseLK",
        "colab_type": "code",
        "colab": {
          "base_uri": "https://localhost:8080/",
          "height": 1000
        },
        "outputId": "f9ca3fa9-d5ab-4627-eb51-d754b7583eac"
      },
      "source": [
        "model.run_train(\n",
        "    train,\n",
        "    validation,\n",
        "    epochs=10,\n",
        "    batch_size=5,\n",
        "    best_save_path='hybrid_model.pth',\n",
        "    pos_neg_ratio=3)"
      ],
      "execution_count": null,
      "outputs": [
        {
          "output_type": "stream",
          "text": [
            "* Number of trainable parameters: 9763808\n",
            "===>  TRAIN Epoch 1\n"
          ],
          "name": "stdout"
        },
        {
          "output_type": "stream",
          "text": [
            "/usr/local/lib/python3.6/dist-packages/torch/nn/functional.py:2247: UserWarning: reduction: 'mean' divides the total loss by both the batch size and the support size.'batchmean' divides only by the batch size, and aligns with the KL div math definition.'mean' will be changed to behave the same as 'batchmean' in the next major release.\n",
            "  warnings.warn(\"reduction: 'mean' divides the total loss by both the batch size and the support size.\"\n",
            "0% [██████████████████████████████] 100% | ETA: 00:00:00\n",
            "Total time elapsed: 00:10:57\n"
          ],
          "name": "stderr"
        },
        {
          "output_type": "stream",
          "text": [
            "Finished Epoch 1 || Run Time:  535.9 | Load Time:  121.8 || F1:  69.02 | Prec:  53.45 | Rec:  97.37 || Ex/s:  17.68\n",
            "\n",
            "===>  EVAL Epoch 1\n"
          ],
          "name": "stdout"
        },
        {
          "output_type": "stream",
          "text": [
            "0% [██████████████████████████████] 100% | ETA: 00:00:00\n",
            "Total time elapsed: 00:02:03\n"
          ],
          "name": "stderr"
        },
        {
          "output_type": "stream",
          "text": [
            "Finished Epoch 1 || Run Time:   84.1 | Load Time:   39.9 || F1:  74.81 | Prec:  61.18 | Rec:  96.25 || Ex/s:  31.26\n",
            "\n",
            "* Best F1: tensor(74.8080, device='cuda:0')\n",
            "Saving best model...\n",
            "Done.\n",
            "---------------------\n",
            "\n",
            "===>  TRAIN Epoch 2\n"
          ],
          "name": "stdout"
        },
        {
          "output_type": "stream",
          "text": [
            "0% [██████████████████████████████] 100% | ETA: 00:00:00\n",
            "Total time elapsed: 00:10:59\n"
          ],
          "name": "stderr"
        },
        {
          "output_type": "stream",
          "text": [
            "Finished Epoch 2 || Run Time:  537.8 | Load Time:  122.2 || F1:  74.96 | Prec:  61.16 | Rec:  96.80 || Ex/s:  17.62\n",
            "\n",
            "===>  EVAL Epoch 2\n"
          ],
          "name": "stdout"
        },
        {
          "output_type": "stream",
          "text": [
            "0% [██████████████████████████████] 100% | ETA: 00:00:00\n",
            "Total time elapsed: 00:02:04\n"
          ],
          "name": "stderr"
        },
        {
          "output_type": "stream",
          "text": [
            "Finished Epoch 2 || Run Time:   84.4 | Load Time:   39.8 || F1:  79.12 | Prec:  68.16 | Rec:  94.27 || Ex/s:  31.19\n",
            "\n",
            "* Best F1: tensor(79.1153, device='cuda:0')\n",
            "Saving best model...\n",
            "Done.\n",
            "---------------------\n",
            "\n",
            "===>  TRAIN Epoch 3\n"
          ],
          "name": "stdout"
        },
        {
          "output_type": "stream",
          "text": [
            "0% [██████████████████████████████] 100% | ETA: 00:00:00\n",
            "Total time elapsed: 00:11:01\n"
          ],
          "name": "stderr"
        },
        {
          "output_type": "stream",
          "text": [
            "Finished Epoch 3 || Run Time:  539.6 | Load Time:  122.2 || F1:  80.60 | Prec:  69.02 | Rec:  96.86 || Ex/s:  17.57\n",
            "\n",
            "===>  EVAL Epoch 3\n"
          ],
          "name": "stdout"
        },
        {
          "output_type": "stream",
          "text": [
            "0% [██████████████████████████████] 100% | ETA: 00:00:00\n",
            "Total time elapsed: 00:02:04\n"
          ],
          "name": "stderr"
        },
        {
          "output_type": "stream",
          "text": [
            "Finished Epoch 3 || Run Time:   84.7 | Load Time:   40.4 || F1:  82.41 | Prec:  72.71 | Rec:  95.08 || Ex/s:  31.01\n",
            "\n",
            "* Best F1: tensor(82.4072, device='cuda:0')\n",
            "Saving best model...\n",
            "Done.\n",
            "---------------------\n",
            "\n",
            "===>  TRAIN Epoch 4\n"
          ],
          "name": "stdout"
        },
        {
          "output_type": "stream",
          "text": [
            "0% [██████████████████████████████] 100% | ETA: 00:00:00\n",
            "Total time elapsed: 00:11:15\n"
          ],
          "name": "stderr"
        },
        {
          "output_type": "stream",
          "text": [
            "Finished Epoch 4 || Run Time:  550.9 | Load Time:  125.2 || F1:  84.90 | Prec:  75.31 | Rec:  97.28 || Ex/s:  17.20\n",
            "\n",
            "===>  EVAL Epoch 4\n"
          ],
          "name": "stdout"
        },
        {
          "output_type": "stream",
          "text": [
            "0% [██████████████████████████████] 100% | ETA: 00:00:00\n",
            "Total time elapsed: 00:02:09\n"
          ],
          "name": "stderr"
        },
        {
          "output_type": "stream",
          "text": [
            "Finished Epoch 4 || Run Time:   88.2 | Load Time:   41.2 || F1:  83.42 | Prec:  74.06 | Rec:  95.49 || Ex/s:  29.95\n",
            "\n",
            "* Best F1: tensor(83.4182, device='cuda:0')\n",
            "Saving best model...\n",
            "Done.\n",
            "---------------------\n",
            "\n",
            "===>  TRAIN Epoch 5\n"
          ],
          "name": "stdout"
        },
        {
          "output_type": "stream",
          "text": [
            "0% [██████████████████████████████] 100% | ETA: 00:00:00\n",
            "Total time elapsed: 00:11:23\n"
          ],
          "name": "stderr"
        },
        {
          "output_type": "stream",
          "text": [
            "Finished Epoch 5 || Run Time:  558.2 | Load Time:  126.0 || F1:  88.44 | Prec:  80.42 | Rec:  98.25 || Ex/s:  16.99\n",
            "\n",
            "===>  EVAL Epoch 5\n"
          ],
          "name": "stdout"
        },
        {
          "output_type": "stream",
          "text": [
            "0% [██████████████████████████████] 100% | ETA: 00:00:00\n",
            "Total time elapsed: 00:02:08\n"
          ],
          "name": "stderr"
        },
        {
          "output_type": "stream",
          "text": [
            "Finished Epoch 5 || Run Time:   87.6 | Load Time:   41.4 || F1:  83.30 | Prec:  74.21 | Rec:  94.93 || Ex/s:  30.05\n",
            "\n",
            "---------------------\n",
            "\n",
            "===>  TRAIN Epoch 6\n"
          ],
          "name": "stdout"
        },
        {
          "output_type": "stream",
          "text": [
            "0% [██████████████████████████████] 100% | ETA: 00:00:00\n",
            "Total time elapsed: 00:11:21\n"
          ],
          "name": "stderr"
        },
        {
          "output_type": "stream",
          "text": [
            "Finished Epoch 6 || Run Time:  555.3 | Load Time:  126.1 || F1:  90.86 | Prec:  84.20 | Rec:  98.66 || Ex/s:  17.07\n",
            "\n",
            "===>  EVAL Epoch 6\n"
          ],
          "name": "stdout"
        },
        {
          "output_type": "stream",
          "text": [
            "0% [██████████████████████████████] 100% | ETA: 00:00:00\n",
            "Total time elapsed: 00:02:05\n"
          ],
          "name": "stderr"
        },
        {
          "output_type": "stream",
          "text": [
            "Finished Epoch 6 || Run Time:   85.5 | Load Time:   40.3 || F1:  85.32 | Prec:  77.52 | Rec:  94.88 || Ex/s:  30.81\n",
            "\n",
            "* Best F1: tensor(85.3236, device='cuda:0')\n",
            "Saving best model...\n",
            "Done.\n",
            "---------------------\n",
            "\n",
            "===>  TRAIN Epoch 7\n"
          ],
          "name": "stdout"
        },
        {
          "output_type": "stream",
          "text": [
            "0% [██████████████████████████████] 100% | ETA: 00:00:00\n",
            "Total time elapsed: 00:11:04\n"
          ],
          "name": "stderr"
        },
        {
          "output_type": "stream",
          "text": [
            "Finished Epoch 7 || Run Time:  541.5 | Load Time:  123.0 || F1:  92.80 | Prec:  87.48 | Rec:  98.81 || Ex/s:  17.50\n",
            "\n",
            "===>  EVAL Epoch 7\n"
          ],
          "name": "stdout"
        },
        {
          "output_type": "stream",
          "text": [
            "0% [██████████████████████████████] 100% | ETA: 00:00:00\n",
            "Total time elapsed: 00:02:04\n"
          ],
          "name": "stderr"
        },
        {
          "output_type": "stream",
          "text": [
            "Finished Epoch 7 || Run Time:   84.3 | Load Time:   40.1 || F1:  85.63 | Prec:  77.55 | Rec:  95.59 || Ex/s:  31.17\n",
            "\n",
            "* Best F1: tensor(85.6300, device='cuda:0')\n",
            "Saving best model...\n",
            "Done.\n",
            "---------------------\n",
            "\n",
            "===>  TRAIN Epoch 8\n"
          ],
          "name": "stdout"
        },
        {
          "output_type": "stream",
          "text": [
            "0% [██████████████████████████████] 100% | ETA: 00:00:00\n",
            "Total time elapsed: 00:10:56\n"
          ],
          "name": "stderr"
        },
        {
          "output_type": "stream",
          "text": [
            "Finished Epoch 8 || Run Time:  534.2 | Load Time:  122.1 || F1:  94.20 | Prec:  89.60 | Rec:  99.31 || Ex/s:  17.72\n",
            "\n",
            "===>  EVAL Epoch 8\n"
          ],
          "name": "stdout"
        },
        {
          "output_type": "stream",
          "text": [
            "0% [██████████████████████████████] 100% | ETA: 00:00:00\n",
            "Total time elapsed: 00:02:03\n"
          ],
          "name": "stderr"
        },
        {
          "output_type": "stream",
          "text": [
            "Finished Epoch 8 || Run Time:   83.8 | Load Time:   39.8 || F1:  85.88 | Prec:  79.70 | Rec:  93.11 || Ex/s:  31.37\n",
            "\n",
            "* Best F1: tensor(85.8812, device='cuda:0')\n",
            "Saving best model...\n",
            "Done.\n",
            "---------------------\n",
            "\n",
            "===>  TRAIN Epoch 9\n"
          ],
          "name": "stdout"
        },
        {
          "output_type": "stream",
          "text": [
            "0% [██████████████████████████████] 100% | ETA: 00:00:00\n",
            "Total time elapsed: 00:10:54\n"
          ],
          "name": "stderr"
        },
        {
          "output_type": "stream",
          "text": [
            "Finished Epoch 9 || Run Time:  533.5 | Load Time:  121.7 || F1:  95.41 | Prec:  91.72 | Rec:  99.42 || Ex/s:  17.75\n",
            "\n",
            "===>  EVAL Epoch 9\n"
          ],
          "name": "stdout"
        },
        {
          "output_type": "stream",
          "text": [
            "0% [██████████████████████████████] 100% | ETA: 00:00:00\n",
            "Total time elapsed: 00:02:04\n"
          ],
          "name": "stderr"
        },
        {
          "output_type": "stream",
          "text": [
            "Finished Epoch 9 || Run Time:   84.8 | Load Time:   39.8 || F1:  85.83 | Prec:  79.02 | Rec:  93.92 || Ex/s:  31.11\n",
            "\n",
            "---------------------\n",
            "\n",
            "===>  TRAIN Epoch 10\n"
          ],
          "name": "stdout"
        },
        {
          "output_type": "stream",
          "text": [
            "0% [██████████████████████████████] 100% | ETA: 00:00:00\n",
            "Total time elapsed: 00:10:57\n"
          ],
          "name": "stderr"
        },
        {
          "output_type": "stream",
          "text": [
            "Finished Epoch 10 || Run Time:  536.5 | Load Time:  121.9 || F1:  96.10 | Prec:  92.91 | Rec:  99.52 || Ex/s:  17.66\n",
            "\n",
            "===>  EVAL Epoch 10\n"
          ],
          "name": "stdout"
        },
        {
          "output_type": "stream",
          "text": [
            "0% [██████████████████████████████] 100% | ETA: 00:00:00\n",
            "Total time elapsed: 00:02:04\n"
          ],
          "name": "stderr"
        },
        {
          "output_type": "stream",
          "text": [
            "Finished Epoch 10 || Run Time:   84.4 | Load Time:   40.0 || F1:  86.37 | Prec:  80.16 | Rec:  93.61 || Ex/s:  31.15\n",
            "\n",
            "* Best F1: tensor(86.3689, device='cuda:0')\n",
            "Saving best model...\n",
            "Done.\n",
            "---------------------\n",
            "\n",
            "Loading best model...\n",
            "Training done.\n"
          ],
          "name": "stdout"
        },
        {
          "output_type": "execute_result",
          "data": {
            "text/plain": [
              "tensor(86.3689, device='cuda:0')"
            ]
          },
          "metadata": {
            "tags": []
          },
          "execution_count": 15
        }
      ]
    },
    {
      "cell_type": "code",
      "metadata": {
        "id": "yrYfxW5rsq6I",
        "colab_type": "code",
        "colab": {
          "base_uri": "https://localhost:8080/",
          "height": 119
        },
        "outputId": "6596684e-49ca-4b30-9984-9431fb46e926"
      },
      "source": [
        "model.run_eval(test,batch_size=8, device='cpu', progress_style='bar', log_freq=5, sort_in_buckets=None)\n",
        "\n"
      ],
      "execution_count": null,
      "outputs": [
        {
          "output_type": "stream",
          "text": [
            "===>  EVAL Epoch 10\n"
          ],
          "name": "stdout"
        },
        {
          "output_type": "stream",
          "text": [
            "0% [██████████████████████████████] 100% | ETA: 00:00:00\n",
            "Total time elapsed: 00:06:56\n"
          ],
          "name": "stderr"
        },
        {
          "output_type": "stream",
          "text": [
            "Finished Epoch 10 || Run Time:  406.6 | Load Time:    9.9 || F1:  85.09 | Prec:  77.44 | Rec:  94.42 || Ex/s:   9.31\n",
            "\n"
          ],
          "name": "stdout"
        },
        {
          "output_type": "execute_result",
          "data": {
            "text/plain": [
              "tensor(85.0902)"
            ]
          },
          "metadata": {
            "tags": []
          },
          "execution_count": 16
        }
      ]
    },
    {
      "cell_type": "code",
      "metadata": {
        "id": "WPjM216Ljxn1",
        "colab_type": "code",
        "colab": {}
      },
      "source": [
        "model.save_state(r'/content/drive/My Drive/DeepMatcherTest/finalmodel.pth')\n",
        "model.save_state(r'/content/drive/My Drive/DeepMatcherTest/finalmodel.sav')"
      ],
      "execution_count": null,
      "outputs": []
    }
  ]
}