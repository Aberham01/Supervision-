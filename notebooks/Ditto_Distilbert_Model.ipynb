{
  "nbformat": 4,
  "nbformat_minor": 0,
  "metadata": {
    "colab": {
      "name": "Ditto_Distilbert.ipynb",
      "provenance": []
    },
    "kernelspec": {
      "name": "python3",
      "display_name": "Python 3",
      "language": "python"
    },
    "language_info": {
      "mimetype": "text/x-python",
      "nbconvert_exporter": "python",
      "name": "python",
      "pygments_lexer": "ipython3",
      "version": "3.5.4",
      "file_extension": ".py",
      "codemirror_mode": {
        "version": 3,
        "name": "ipython"
      }
    }
  },
  "cells": [
    {
      "cell_type": "code",
      "metadata": {
        "id": "OZKhS5e8LWh6",
        "colab_type": "code",
        "trusted": true,
        "colab": {}
      },
      "source": [
        "import pandas as pd\n",
        "import numpy as np\n",
        "import os\n",
        "import json\n",
        "from ast import literal_eval\n",
        "import re"
      ],
      "execution_count": null,
      "outputs": []
    },
    {
      "cell_type": "code",
      "metadata": {
        "id": "ENGIWe-pMZ2h",
        "colab_type": "code",
        "trusted": false,
        "colab": {}
      },
      "source": [
        "train = pd.read_csv('train.csv')"
      ],
      "execution_count": null,
      "outputs": []
    },
    {
      "cell_type": "code",
      "metadata": {
        "id": "FWOYSJ5bMqS2",
        "colab_type": "code",
        "trusted": false,
        "colab": {
          "base_uri": "https://localhost:8080/",
          "height": 250
        },
        "outputId": "0f6d5d49-3888-4ced-886b-53a2d0d7cf7e"
      },
      "source": [
        "train.head(2)"
      ],
      "execution_count": null,
      "outputs": [
        {
          "output_type": "execute_result",
          "data": {
            "text/html": [
              "<div>\n",
              "<style scoped>\n",
              "    .dataframe tbody tr th:only-of-type {\n",
              "        vertical-align: middle;\n",
              "    }\n",
              "\n",
              "    .dataframe tbody tr th {\n",
              "        vertical-align: top;\n",
              "    }\n",
              "\n",
              "    .dataframe thead th {\n",
              "        text-align: right;\n",
              "    }\n",
              "</style>\n",
              "<table border=\"1\" class=\"dataframe\">\n",
              "  <thead>\n",
              "    <tr style=\"text-align: right;\">\n",
              "      <th></th>\n",
              "      <th>left_id</th>\n",
              "      <th>left_category</th>\n",
              "      <th>right_id</th>\n",
              "      <th>right_category</th>\n",
              "      <th>label</th>\n",
              "      <th>pair_id</th>\n",
              "      <th>left_brand</th>\n",
              "      <th>right_brand</th>\n",
              "      <th>left_description</th>\n",
              "      <th>right_description</th>\n",
              "      <th>left_price</th>\n",
              "      <th>right_price</th>\n",
              "      <th>left_specTableContent</th>\n",
              "      <th>right_specTableContent</th>\n",
              "      <th>left_title</th>\n",
              "      <th>right_title</th>\n",
              "    </tr>\n",
              "  </thead>\n",
              "  <tbody>\n",
              "    <tr>\n",
              "      <th>0</th>\n",
              "      <td>8837825</td>\n",
              "      <td>Computers_and_Accessories</td>\n",
              "      <td>16995189</td>\n",
              "      <td>Computers_and_Accessories</td>\n",
              "      <td>0</td>\n",
              "      <td>8837825#16995189</td>\n",
              "      <td>NaN</td>\n",
              "      <td>\"Samsung\"@en</td>\n",
              "      <td>\"Disco Solido SSD, 500GB de capacidad, 2.5 SAT...</td>\n",
              "      <td>\"Samsung's unique and innovative 3D V-NAND fla...</td>\n",
              "      <td>NaN</td>\n",
              "      <td>NaN</td>\n",
              "      <td>NaN</td>\n",
              "      <td>NaN</td>\n",
              "      <td>\"Samsung 850 EVO 500GB MZ-75E500B/EU\"@es</td>\n",
              "      <td>\"Samsung 850 EVO Series M.2 1TB SATA 6Gbps So...</td>\n",
              "    </tr>\n",
              "    <tr>\n",
              "      <th>1</th>\n",
              "      <td>16272671</td>\n",
              "      <td>Computers_and_Accessories</td>\n",
              "      <td>4537309</td>\n",
              "      <td>Computers_and_Accessories</td>\n",
              "      <td>0</td>\n",
              "      <td>16272671#4537309</td>\n",
              "      <td>NaN</td>\n",
              "      <td>\"Corsair\"@en</td>\n",
              "      <td>NaN</td>\n",
              "      <td>\"DDR4, 2400MHz, CL14, 1.2v, XMP 2.0, Lifetime ...</td>\n",
              "      <td>NaN</td>\n",
              "      <td>NaN</td>\n",
              "      <td>Categorie Geheugen intern Merk Corsair Produc...</td>\n",
              "      <td>Memory Type DDR4 (PC4-19200) Capacity 32GB (4...</td>\n",
              "      <td>\"Corsair Vengeance LPX CMK64GX4M4A2666C16 - P...</td>\n",
              "      <td>\"Corsair Vengeance LPX Black 32GB (4x8GB) DDR...</td>\n",
              "    </tr>\n",
              "  </tbody>\n",
              "</table>\n",
              "</div>"
            ],
            "text/plain": [
              "    left_id  ...                                        right_title\n",
              "0   8837825  ...   \"Samsung 850 EVO Series M.2 1TB SATA 6Gbps So...\n",
              "1  16272671  ...   \"Corsair Vengeance LPX Black 32GB (4x8GB) DDR...\n",
              "\n",
              "[2 rows x 16 columns]"
            ]
          },
          "metadata": {
            "tags": []
          },
          "execution_count": 25
        }
      ]
    },
    {
      "cell_type": "code",
      "metadata": {
        "id": "WBplQ6BuQzBg",
        "colab_type": "code",
        "trusted": false,
        "colab": {
          "base_uri": "https://localhost:8080/",
          "height": 119
        },
        "outputId": "57817f98-1e36-4b28-e4cb-ecbb1c76f069"
      },
      "source": [
        "train.columns"
      ],
      "execution_count": null,
      "outputs": [
        {
          "output_type": "execute_result",
          "data": {
            "text/plain": [
              "Index(['left_id', 'left_category', 'right_id', 'right_category', 'label',\n",
              "       'pair_id', 'left_brand', 'right_brand', 'left_description',\n",
              "       'right_description', 'left_price', 'right_price',\n",
              "       'left_specTableContent', 'right_specTableContent', 'left_title',\n",
              "       'right_title'],\n",
              "      dtype='object')"
            ]
          },
          "metadata": {
            "tags": []
          },
          "execution_count": 26
        }
      ]
    },
    {
      "cell_type": "code",
      "metadata": {
        "id": "-eyK4tIsQ2fw",
        "colab_type": "code",
        "trusted": false,
        "colab": {}
      },
      "source": [
        "rep = {'left_title':'NA','right_title':'NA','left_brand':'NA', 'right_brand':'NA','left_price':0,'right_price':0}\n",
        "\n",
        "train = train.fillna(rep)"
      ],
      "execution_count": null,
      "outputs": []
    },
    {
      "cell_type": "code",
      "metadata": {
        "id": "EbGG1jdDQPU0",
        "colab_type": "code",
        "trusted": false,
        "colab": {
          "base_uri": "https://localhost:8080/",
          "height": 250
        },
        "outputId": "0c43bb5c-dd55-43ba-aef5-ac548b33f1b4"
      },
      "source": [
        "train.head(2)"
      ],
      "execution_count": null,
      "outputs": [
        {
          "output_type": "execute_result",
          "data": {
            "text/html": [
              "<div>\n",
              "<style scoped>\n",
              "    .dataframe tbody tr th:only-of-type {\n",
              "        vertical-align: middle;\n",
              "    }\n",
              "\n",
              "    .dataframe tbody tr th {\n",
              "        vertical-align: top;\n",
              "    }\n",
              "\n",
              "    .dataframe thead th {\n",
              "        text-align: right;\n",
              "    }\n",
              "</style>\n",
              "<table border=\"1\" class=\"dataframe\">\n",
              "  <thead>\n",
              "    <tr style=\"text-align: right;\">\n",
              "      <th></th>\n",
              "      <th>left_id</th>\n",
              "      <th>left_category</th>\n",
              "      <th>right_id</th>\n",
              "      <th>right_category</th>\n",
              "      <th>label</th>\n",
              "      <th>pair_id</th>\n",
              "      <th>left_brand</th>\n",
              "      <th>right_brand</th>\n",
              "      <th>left_description</th>\n",
              "      <th>right_description</th>\n",
              "      <th>left_price</th>\n",
              "      <th>right_price</th>\n",
              "      <th>left_specTableContent</th>\n",
              "      <th>right_specTableContent</th>\n",
              "      <th>left_title</th>\n",
              "      <th>right_title</th>\n",
              "    </tr>\n",
              "  </thead>\n",
              "  <tbody>\n",
              "    <tr>\n",
              "      <th>0</th>\n",
              "      <td>8837825</td>\n",
              "      <td>Computers_and_Accessories</td>\n",
              "      <td>16995189</td>\n",
              "      <td>Computers_and_Accessories</td>\n",
              "      <td>0</td>\n",
              "      <td>8837825#16995189</td>\n",
              "      <td>NA</td>\n",
              "      <td>\"Samsung\"@en</td>\n",
              "      <td>\"Disco Solido SSD, 500GB de capacidad, 2.5 SAT...</td>\n",
              "      <td>\"Samsung's unique and innovative 3D V-NAND fla...</td>\n",
              "      <td>0</td>\n",
              "      <td>0</td>\n",
              "      <td>NaN</td>\n",
              "      <td>NaN</td>\n",
              "      <td>\"Samsung 850 EVO 500GB MZ-75E500B/EU\"@es</td>\n",
              "      <td>\"Samsung 850 EVO Series M.2 1TB SATA 6Gbps So...</td>\n",
              "    </tr>\n",
              "    <tr>\n",
              "      <th>1</th>\n",
              "      <td>16272671</td>\n",
              "      <td>Computers_and_Accessories</td>\n",
              "      <td>4537309</td>\n",
              "      <td>Computers_and_Accessories</td>\n",
              "      <td>0</td>\n",
              "      <td>16272671#4537309</td>\n",
              "      <td>NA</td>\n",
              "      <td>\"Corsair\"@en</td>\n",
              "      <td>NaN</td>\n",
              "      <td>\"DDR4, 2400MHz, CL14, 1.2v, XMP 2.0, Lifetime ...</td>\n",
              "      <td>0</td>\n",
              "      <td>0</td>\n",
              "      <td>Categorie Geheugen intern Merk Corsair Produc...</td>\n",
              "      <td>Memory Type DDR4 (PC4-19200) Capacity 32GB (4...</td>\n",
              "      <td>\"Corsair Vengeance LPX CMK64GX4M4A2666C16 - P...</td>\n",
              "      <td>\"Corsair Vengeance LPX Black 32GB (4x8GB) DDR...</td>\n",
              "    </tr>\n",
              "  </tbody>\n",
              "</table>\n",
              "</div>"
            ],
            "text/plain": [
              "    left_id  ...                                        right_title\n",
              "0   8837825  ...   \"Samsung 850 EVO Series M.2 1TB SATA 6Gbps So...\n",
              "1  16272671  ...   \"Corsair Vengeance LPX Black 32GB (4x8GB) DDR...\n",
              "\n",
              "[2 rows x 16 columns]"
            ]
          },
          "metadata": {
            "tags": []
          },
          "execution_count": 28
        }
      ]
    },
    {
      "cell_type": "code",
      "metadata": {
        "id": "Lvv-epMPcj0p",
        "colab_type": "code",
        "trusted": false,
        "colab": {}
      },
      "source": [
        "def result(t):\n",
        "  if t!=0:\n",
        "    op = re.findall(\"\\d+\\.\\d+\",t)\n",
        "    if op:\n",
        "      return op[0]\n",
        "    else:\n",
        "      return 0\n",
        "  else:\n",
        "    return 0\n",
        "\n",
        "train['left_price'] = train.apply(lambda row:result(row['left_price']),axis=1)\n",
        "train['right_price'] = train.apply(lambda row:result(row['right_price']),axis=1)\n",
        "\n",
        "#  if row['right_price']!=0 else 0"
      ],
      "execution_count": null,
      "outputs": []
    },
    {
      "cell_type": "code",
      "metadata": {
        "id": "BkNUlBzWQ_KH",
        "colab_type": "code",
        "trusted": false,
        "colab": {
          "base_uri": "https://localhost:8080/",
          "height": 462
        },
        "outputId": "16acef2b-216e-403b-fe8f-02d53ca8c339"
      },
      "source": [
        "train.tail(5)"
      ],
      "execution_count": null,
      "outputs": [
        {
          "output_type": "execute_result",
          "data": {
            "text/html": [
              "<div>\n",
              "<style scoped>\n",
              "    .dataframe tbody tr th:only-of-type {\n",
              "        vertical-align: middle;\n",
              "    }\n",
              "\n",
              "    .dataframe tbody tr th {\n",
              "        vertical-align: top;\n",
              "    }\n",
              "\n",
              "    .dataframe thead th {\n",
              "        text-align: right;\n",
              "    }\n",
              "</style>\n",
              "<table border=\"1\" class=\"dataframe\">\n",
              "  <thead>\n",
              "    <tr style=\"text-align: right;\">\n",
              "      <th></th>\n",
              "      <th>left_id</th>\n",
              "      <th>left_category</th>\n",
              "      <th>right_id</th>\n",
              "      <th>right_category</th>\n",
              "      <th>label</th>\n",
              "      <th>pair_id</th>\n",
              "      <th>left_brand</th>\n",
              "      <th>right_brand</th>\n",
              "      <th>left_description</th>\n",
              "      <th>right_description</th>\n",
              "      <th>left_price</th>\n",
              "      <th>right_price</th>\n",
              "      <th>left_specTableContent</th>\n",
              "      <th>right_specTableContent</th>\n",
              "      <th>left_title</th>\n",
              "      <th>right_title</th>\n",
              "    </tr>\n",
              "  </thead>\n",
              "  <tbody>\n",
              "    <tr>\n",
              "      <th>11623</th>\n",
              "      <td>13459729</td>\n",
              "      <td>Computers_and_Accessories</td>\n",
              "      <td>11405007</td>\n",
              "      <td>Computers_and_Accessories</td>\n",
              "      <td>0</td>\n",
              "      <td>13459729#11405007</td>\n",
              "      <td>NA</td>\n",
              "      <td>NA</td>\n",
              "      <td>NaN</td>\n",
              "      <td>NaN</td>\n",
              "      <td>0</td>\n",
              "      <td>0</td>\n",
              "      <td>Quick Specs: CAS Latency CL11 Compatibility h...</td>\n",
              "      <td>NaN</td>\n",
              "      <td>\"Kingston KVR16N11S8K2/8 8GB 2X4GB Kits 1600M...</td>\n",
              "      <td>\"Kingston HyperX Fury Blue DDR3 1600 4GB CL10...</td>\n",
              "    </tr>\n",
              "    <tr>\n",
              "      <th>11624</th>\n",
              "      <td>7391727</td>\n",
              "      <td>Computers_and_Accessories</td>\n",
              "      <td>14643053</td>\n",
              "      <td>Computers_and_Accessories</td>\n",
              "      <td>0</td>\n",
              "      <td>7391727#14643053</td>\n",
              "      <td>NA</td>\n",
              "      <td>NA</td>\n",
              "      <td>NaN</td>\n",
              "      <td>NaN</td>\n",
              "      <td>0</td>\n",
              "      <td>0</td>\n",
              "      <td>Categorie Videokaarten Merk Asus Product Asus...</td>\n",
              "      <td>NaN</td>\n",
              "      <td>\"Asus GT 730 Passive LP - Prijzen \"@NL Tweake...</td>\n",
              "      <td>\"Asus GeForce GTX 1060 PCIe Turbo Graphics Ca...</td>\n",
              "    </tr>\n",
              "    <tr>\n",
              "      <th>11625</th>\n",
              "      <td>8921236</td>\n",
              "      <td>Computers_and_Accessories</td>\n",
              "      <td>16330606</td>\n",
              "      <td>Computers_and_Accessories</td>\n",
              "      <td>0</td>\n",
              "      <td>8921236#16330606</td>\n",
              "      <td>\"Kingston Technology\"@en-GB</td>\n",
              "      <td>NA</td>\n",
              "      <td>NaN</td>\n",
              "      <td>NaN</td>\n",
              "      <td>0</td>\n",
              "      <td>0</td>\n",
              "      <td>NaN</td>\n",
              "      <td>Categorie Geheugen intern Merk Kingston Produ...</td>\n",
              "      <td>\"FURY Blue 8GB 1866MHz DDR3\"@en-GB DDR3 | HX3...</td>\n",
              "      <td>\"Kingston HyperX Fury black HX426C15FB/4 - Pr...</td>\n",
              "    </tr>\n",
              "    <tr>\n",
              "      <th>11626</th>\n",
              "      <td>2592100</td>\n",
              "      <td>Office_Products</td>\n",
              "      <td>9776106</td>\n",
              "      <td>Office_Products</td>\n",
              "      <td>1</td>\n",
              "      <td>2592100#9776106</td>\n",
              "      <td>NA</td>\n",
              "      <td>NA</td>\n",
              "      <td>SD-Kartensteckplatz; Bis zu 1000 Seiten; 1 Ja...</td>\n",
              "      <td>\"Inyección de tinta térmica Impresión a color ...</td>\n",
              "      <td>139.90</td>\n",
              "      <td>0</td>\n",
              "      <td>NaN</td>\n",
              "      <td>NaN</td>\n",
              "      <td>\"HP ENVY Photo 7130 All-in-One-Drucker\"@de</td>\n",
              "      <td>\"HP ENVY Photo Impresora multifunción de la s...</td>\n",
              "    </tr>\n",
              "    <tr>\n",
              "      <th>11627</th>\n",
              "      <td>729112</td>\n",
              "      <td>Computers_and_Accessories</td>\n",
              "      <td>7174486</td>\n",
              "      <td>Computers_and_Accessories</td>\n",
              "      <td>0</td>\n",
              "      <td>729112#7174486</td>\n",
              "      <td>\"Corsair\"@en</td>\n",
              "      <td>NA</td>\n",
              "      <td>\"CMK16GX4M2B3600C18, 3600MHz RAM Speed, CAS 18...</td>\n",
              "      <td>\"Memoria RAM Quad Kit, 4x16GB PC4-21300 DDR4-2...</td>\n",
              "      <td>0</td>\n",
              "      <td>0</td>\n",
              "      <td>NaN</td>\n",
              "      <td>NaN</td>\n",
              "      <td>\"Corsair Vengeance LPX 16GB (2x8GB) DDR4 PC4-...</td>\n",
              "      <td>\"Corsair CMK64GX4M4A2666C16\"@es</td>\n",
              "    </tr>\n",
              "  </tbody>\n",
              "</table>\n",
              "</div>"
            ],
            "text/plain": [
              "        left_id  ...                                        right_title\n",
              "11623  13459729  ...   \"Kingston HyperX Fury Blue DDR3 1600 4GB CL10...\n",
              "11624   7391727  ...   \"Asus GeForce GTX 1060 PCIe Turbo Graphics Ca...\n",
              "11625   8921236  ...   \"Kingston HyperX Fury black HX426C15FB/4 - Pr...\n",
              "11626   2592100  ...   \"HP ENVY Photo Impresora multifunción de la s...\n",
              "11627    729112  ...                    \"Corsair CMK64GX4M4A2666C16\"@es\n",
              "\n",
              "[5 rows x 16 columns]"
            ]
          },
          "metadata": {
            "tags": []
          },
          "execution_count": 43
        }
      ]
    },
    {
      "cell_type": "code",
      "metadata": {
        "id": "gfivRV-jReq9",
        "colab_type": "code",
        "trusted": false,
        "colab": {
          "base_uri": "https://localhost:8080/",
          "height": 34
        },
        "outputId": "af2e36ed-d4e0-4857-c801-e7a02b096874"
      },
      "source": [
        "len(train)"
      ],
      "execution_count": null,
      "outputs": [
        {
          "output_type": "execute_result",
          "data": {
            "text/plain": [
              "11628"
            ]
          },
          "metadata": {
            "tags": []
          },
          "execution_count": 44
        }
      ]
    },
    {
      "cell_type": "code",
      "metadata": {
        "id": "pDdDaB-8M6dn",
        "colab_type": "code",
        "trusted": false,
        "colab": {}
      },
      "source": [
        "train['final'] = train.apply(lambda row:'COL title VAL '+row['left_title']+' COL manufacturer VAL '+row['left_brand']+' COL price VAL '+str(row['left_price'])+'\\t'\\\n",
        "                             +'COL title VAL '+row['right_title']+' COL manufacturer VAL '+row['right_brand']+' COL price VAL '+str(row['right_price'])+'\\t'\\\n",
        "                             +str(row['label']),axis=1)"
      ],
      "execution_count": null,
      "outputs": []
    },
    {
      "cell_type": "code",
      "metadata": {
        "id": "PZcDS9JJQo1v",
        "colab_type": "code",
        "trusted": false,
        "colab": {
          "base_uri": "https://localhost:8080/",
          "height": 564
        },
        "outputId": "228fc8e6-1ff1-4a7b-8a78-82509b4cba69"
      },
      "source": [
        "train.head()"
      ],
      "execution_count": null,
      "outputs": [
        {
          "output_type": "execute_result",
          "data": {
            "text/html": [
              "<div>\n",
              "<style scoped>\n",
              "    .dataframe tbody tr th:only-of-type {\n",
              "        vertical-align: middle;\n",
              "    }\n",
              "\n",
              "    .dataframe tbody tr th {\n",
              "        vertical-align: top;\n",
              "    }\n",
              "\n",
              "    .dataframe thead th {\n",
              "        text-align: right;\n",
              "    }\n",
              "</style>\n",
              "<table border=\"1\" class=\"dataframe\">\n",
              "  <thead>\n",
              "    <tr style=\"text-align: right;\">\n",
              "      <th></th>\n",
              "      <th>left_id</th>\n",
              "      <th>left_category</th>\n",
              "      <th>right_id</th>\n",
              "      <th>right_category</th>\n",
              "      <th>label</th>\n",
              "      <th>pair_id</th>\n",
              "      <th>left_brand</th>\n",
              "      <th>right_brand</th>\n",
              "      <th>left_description</th>\n",
              "      <th>right_description</th>\n",
              "      <th>left_price</th>\n",
              "      <th>right_price</th>\n",
              "      <th>left_specTableContent</th>\n",
              "      <th>right_specTableContent</th>\n",
              "      <th>left_title</th>\n",
              "      <th>right_title</th>\n",
              "      <th>final</th>\n",
              "    </tr>\n",
              "  </thead>\n",
              "  <tbody>\n",
              "    <tr>\n",
              "      <th>0</th>\n",
              "      <td>8837825</td>\n",
              "      <td>Computers_and_Accessories</td>\n",
              "      <td>16995189</td>\n",
              "      <td>Computers_and_Accessories</td>\n",
              "      <td>0</td>\n",
              "      <td>8837825#16995189</td>\n",
              "      <td>NA</td>\n",
              "      <td>\"Samsung\"@en</td>\n",
              "      <td>\"Disco Solido SSD, 500GB de capacidad, 2.5 SAT...</td>\n",
              "      <td>\"Samsung's unique and innovative 3D V-NAND fla...</td>\n",
              "      <td>0</td>\n",
              "      <td>0</td>\n",
              "      <td>NaN</td>\n",
              "      <td>NaN</td>\n",
              "      <td>\"Samsung 850 EVO 500GB MZ-75E500B/EU\"@es</td>\n",
              "      <td>\"Samsung 850 EVO Series M.2 1TB SATA 6Gbps So...</td>\n",
              "      <td>COL title VAL  \"Samsung 850 EVO 500GB MZ-75E50...</td>\n",
              "    </tr>\n",
              "    <tr>\n",
              "      <th>1</th>\n",
              "      <td>16272671</td>\n",
              "      <td>Computers_and_Accessories</td>\n",
              "      <td>4537309</td>\n",
              "      <td>Computers_and_Accessories</td>\n",
              "      <td>0</td>\n",
              "      <td>16272671#4537309</td>\n",
              "      <td>NA</td>\n",
              "      <td>\"Corsair\"@en</td>\n",
              "      <td>NaN</td>\n",
              "      <td>\"DDR4, 2400MHz, CL14, 1.2v, XMP 2.0, Lifetime ...</td>\n",
              "      <td>0</td>\n",
              "      <td>0</td>\n",
              "      <td>Categorie Geheugen intern Merk Corsair Produc...</td>\n",
              "      <td>Memory Type DDR4 (PC4-19200) Capacity 32GB (4...</td>\n",
              "      <td>\"Corsair Vengeance LPX CMK64GX4M4A2666C16 - P...</td>\n",
              "      <td>\"Corsair Vengeance LPX Black 32GB (4x8GB) DDR...</td>\n",
              "      <td>COL title VAL  \"Corsair Vengeance LPX CMK64GX4...</td>\n",
              "    </tr>\n",
              "    <tr>\n",
              "      <th>2</th>\n",
              "      <td>9115026</td>\n",
              "      <td>Computers_and_Accessories</td>\n",
              "      <td>15088537</td>\n",
              "      <td>Computers_and_Accessories</td>\n",
              "      <td>1</td>\n",
              "      <td>9115026#15088537</td>\n",
              "      <td>NA</td>\n",
              "      <td>NA</td>\n",
              "      <td>NaN</td>\n",
              "      <td>\"Disco Duro 3.5, 10TB capacidad, SATA 6Gbps, 7...</td>\n",
              "      <td>0</td>\n",
              "      <td>0</td>\n",
              "      <td>NaN</td>\n",
              "      <td>NaN</td>\n",
              "      <td>\"10TB GOLD SATA 6 GB/S 7200 RPM 256MB 3.5IN\"@...</td>\n",
              "      <td>\"WD Gold 10TB WD101KRYZ\"@es</td>\n",
              "      <td>COL title VAL  \"10TB GOLD SATA 6 GB/S 7200 RPM...</td>\n",
              "    </tr>\n",
              "    <tr>\n",
              "      <th>3</th>\n",
              "      <td>17253303</td>\n",
              "      <td>Computers_and_Accessories</td>\n",
              "      <td>15348141</td>\n",
              "      <td>Computers_and_Accessories</td>\n",
              "      <td>1</td>\n",
              "      <td>17253303#15348141</td>\n",
              "      <td>\"HP Enterprise\"</td>\n",
              "      <td>\"HP Enterprise\"</td>\n",
              "      <td>\"Description:StorageWorks ExternalPart Number(...</td>\n",
              "      <td>\"Description:HP 15/30GB DLT Tape Drive (Deskto...</td>\n",
              "      <td>0</td>\n",
              "      <td>0</td>\n",
              "      <td>Specifications: Category Proliant Sub-Categor...</td>\n",
              "      <td>Specifications: Category Proliant Sub-Categor...</td>\n",
              "      <td>\"242469-001 HP Storageworks External\", \"Null\"...</td>\n",
              "      <td>\"HP 242469-001 15/30-GB Ext SCSI DLT\", \"Null\"...</td>\n",
              "      <td>COL title VAL  \"242469-001 HP Storageworks Ext...</td>\n",
              "    </tr>\n",
              "    <tr>\n",
              "      <th>4</th>\n",
              "      <td>11118257</td>\n",
              "      <td>Computers_and_Accessories</td>\n",
              "      <td>2335315</td>\n",
              "      <td>Computers_and_Accessories</td>\n",
              "      <td>1</td>\n",
              "      <td>11118257#2335315</td>\n",
              "      <td>NA</td>\n",
              "      <td>\"Seagate\"</td>\n",
              "      <td>\"DISCO DURO INTERNO HDD SEAGATE 1TB 3.5\"</td>\n",
              "      <td>\"Description:5 x Seagate Barracuda (The Power ...</td>\n",
              "      <td>0</td>\n",
              "      <td>0</td>\n",
              "      <td>NaN</td>\n",
              "      <td>Specifications: Category Seagate HardDrive Su...</td>\n",
              "      <td>\"DISCO DURO INTERNO HDD SEAGATE 1TB\"</td>\n",
              "      <td>\"ST1000DM003 Seagate 1-TB 7.2K 3.5 6G SATA\", ...</td>\n",
              "      <td>COL title VAL  \"DISCO DURO INTERNO HDD SEAGATE...</td>\n",
              "    </tr>\n",
              "  </tbody>\n",
              "</table>\n",
              "</div>"
            ],
            "text/plain": [
              "    left_id  ...                                              final\n",
              "0   8837825  ...  COL title VAL  \"Samsung 850 EVO 500GB MZ-75E50...\n",
              "1  16272671  ...  COL title VAL  \"Corsair Vengeance LPX CMK64GX4...\n",
              "2   9115026  ...  COL title VAL  \"10TB GOLD SATA 6 GB/S 7200 RPM...\n",
              "3  17253303  ...  COL title VAL  \"242469-001 HP Storageworks Ext...\n",
              "4  11118257  ...  COL title VAL  \"DISCO DURO INTERNO HDD SEAGATE...\n",
              "\n",
              "[5 rows x 17 columns]"
            ]
          },
          "metadata": {
            "tags": []
          },
          "execution_count": 46
        }
      ]
    },
    {
      "cell_type": "code",
      "metadata": {
        "id": "cM2xpk2vWd7-",
        "colab_type": "code",
        "trusted": false,
        "colab": {
          "base_uri": "https://localhost:8080/",
          "height": 69
        },
        "outputId": "ecab4ecb-f120-4351-a11e-797f045fefa9"
      },
      "source": [
        "train['final'].iloc[0]"
      ],
      "execution_count": null,
      "outputs": [
        {
          "output_type": "execute_result",
          "data": {
            "application/vnd.google.colaboratory.intrinsic": {
              "type": "string"
            },
            "text/plain": [
              "'COL title VAL  \"Samsung 850 EVO 500GB MZ-75E500B/EU\"@es COL manufacturer VAL NA COL price VAL 0\\tCOL title VAL  \"Samsung 850 EVO Series M.2 1TB SATA 6Gbps Solid State Drive (MZ-N5E1T0BW)\"@en \"▷ Samsung … | OcUK\"@en COL manufacturer VAL \"Samsung\"@en COL price VAL 0\\t0'"
            ]
          },
          "metadata": {
            "tags": []
          },
          "execution_count": 47
        }
      ]
    },
    {
      "cell_type": "code",
      "metadata": {
        "id": "msjAsoFCYhDW",
        "colab_type": "code",
        "trusted": false,
        "colab": {}
      },
      "source": [
        "train['final'] = train['final'].replace('\"','')"
      ],
      "execution_count": null,
      "outputs": []
    },
    {
      "cell_type": "code",
      "metadata": {
        "id": "NP_e8BEEYmQG",
        "colab_type": "code",
        "trusted": false,
        "colab": {}
      },
      "source": [
        "train['final'].to_csv('train.txt',index=False)"
      ],
      "execution_count": null,
      "outputs": []
    },
    {
      "cell_type": "code",
      "metadata": {
        "id": "gheUdwKvYx8e",
        "colab_type": "code",
        "trusted": false,
        "colab": {}
      },
      "source": [
        "#Edited manually and reuploading"
      ],
      "execution_count": null,
      "outputs": []
    },
    {
      "cell_type": "code",
      "metadata": {
        "id": "WPLnvMUsXlqv",
        "colab_type": "code",
        "trusted": true,
        "colab": {
          "base_uri": "https://localhost:8080/",
          "height": 476
        },
        "outputId": "fdf05d2f-8ca5-4dd5-9ae2-5b225454a525"
      },
      "source": [
        "data = pd.read_csv('train.txt')"
      ],
      "execution_count": null,
      "outputs": [
        {
          "output_type": "error",
          "ename": "CParserError",
          "evalue": "Error tokenizing data. C error: Expected 1 fields in line 4, saw 3\n",
          "traceback": [
            "\u001b[0;31m---------------------------------------------------------------------------\u001b[0m",
            "\u001b[0;31mCParserError\u001b[0m                              Traceback (most recent call last)",
            "\u001b[0;32m<ipython-input-2-e1fcc3588664>\u001b[0m in \u001b[0;36m<module>\u001b[0;34m()\u001b[0m\n\u001b[0;32m----> 1\u001b[0;31m \u001b[0mdata\u001b[0m \u001b[0;34m=\u001b[0m \u001b[0mpd\u001b[0m\u001b[0;34m.\u001b[0m\u001b[0mread_csv\u001b[0m\u001b[0;34m(\u001b[0m\u001b[0;34m'train.txt'\u001b[0m\u001b[0;34m)\u001b[0m\u001b[0;34m\u001b[0m\u001b[0m\n\u001b[0m",
            "\u001b[0;32m~/anaconda3_420/lib/python3.5/site-packages/pandas/io/parsers.py\u001b[0m in \u001b[0;36mparser_f\u001b[0;34m(filepath_or_buffer, sep, delimiter, header, names, index_col, usecols, squeeze, prefix, mangle_dupe_cols, dtype, engine, converters, true_values, false_values, skipinitialspace, skiprows, nrows, na_values, keep_default_na, na_filter, verbose, skip_blank_lines, parse_dates, infer_datetime_format, keep_date_col, date_parser, dayfirst, iterator, chunksize, compression, thousands, decimal, lineterminator, quotechar, quoting, escapechar, comment, encoding, dialect, tupleize_cols, error_bad_lines, warn_bad_lines, skipfooter, skip_footer, doublequote, delim_whitespace, as_recarray, compact_ints, use_unsigned, low_memory, buffer_lines, memory_map, float_precision)\u001b[0m\n\u001b[1;32m    644\u001b[0m                     skip_blank_lines=skip_blank_lines)\n\u001b[1;32m    645\u001b[0m \u001b[0;34m\u001b[0m\u001b[0m\n\u001b[0;32m--> 646\u001b[0;31m         \u001b[0;32mreturn\u001b[0m \u001b[0m_read\u001b[0m\u001b[0;34m(\u001b[0m\u001b[0mfilepath_or_buffer\u001b[0m\u001b[0;34m,\u001b[0m \u001b[0mkwds\u001b[0m\u001b[0;34m)\u001b[0m\u001b[0;34m\u001b[0m\u001b[0m\n\u001b[0m\u001b[1;32m    647\u001b[0m \u001b[0;34m\u001b[0m\u001b[0m\n\u001b[1;32m    648\u001b[0m     \u001b[0mparser_f\u001b[0m\u001b[0;34m.\u001b[0m\u001b[0m__name__\u001b[0m \u001b[0;34m=\u001b[0m \u001b[0mname\u001b[0m\u001b[0;34m\u001b[0m\u001b[0m\n",
            "\u001b[0;32m~/anaconda3_420/lib/python3.5/site-packages/pandas/io/parsers.py\u001b[0m in \u001b[0;36m_read\u001b[0;34m(filepath_or_buffer, kwds)\u001b[0m\n\u001b[1;32m    399\u001b[0m         \u001b[0;32mreturn\u001b[0m \u001b[0mparser\u001b[0m\u001b[0;34m\u001b[0m\u001b[0m\n\u001b[1;32m    400\u001b[0m \u001b[0;34m\u001b[0m\u001b[0m\n\u001b[0;32m--> 401\u001b[0;31m     \u001b[0mdata\u001b[0m \u001b[0;34m=\u001b[0m \u001b[0mparser\u001b[0m\u001b[0;34m.\u001b[0m\u001b[0mread\u001b[0m\u001b[0;34m(\u001b[0m\u001b[0;34m)\u001b[0m\u001b[0;34m\u001b[0m\u001b[0m\n\u001b[0m\u001b[1;32m    402\u001b[0m     \u001b[0mparser\u001b[0m\u001b[0;34m.\u001b[0m\u001b[0mclose\u001b[0m\u001b[0;34m(\u001b[0m\u001b[0;34m)\u001b[0m\u001b[0;34m\u001b[0m\u001b[0m\n\u001b[1;32m    403\u001b[0m     \u001b[0;32mreturn\u001b[0m \u001b[0mdata\u001b[0m\u001b[0;34m\u001b[0m\u001b[0m\n",
            "\u001b[0;32m~/anaconda3_420/lib/python3.5/site-packages/pandas/io/parsers.py\u001b[0m in \u001b[0;36mread\u001b[0;34m(self, nrows)\u001b[0m\n\u001b[1;32m    937\u001b[0m                 \u001b[0;32mraise\u001b[0m \u001b[0mValueError\u001b[0m\u001b[0;34m(\u001b[0m\u001b[0;34m'skipfooter not supported for iteration'\u001b[0m\u001b[0;34m)\u001b[0m\u001b[0;34m\u001b[0m\u001b[0m\n\u001b[1;32m    938\u001b[0m \u001b[0;34m\u001b[0m\u001b[0m\n\u001b[0;32m--> 939\u001b[0;31m         \u001b[0mret\u001b[0m \u001b[0;34m=\u001b[0m \u001b[0mself\u001b[0m\u001b[0;34m.\u001b[0m\u001b[0m_engine\u001b[0m\u001b[0;34m.\u001b[0m\u001b[0mread\u001b[0m\u001b[0;34m(\u001b[0m\u001b[0mnrows\u001b[0m\u001b[0;34m)\u001b[0m\u001b[0;34m\u001b[0m\u001b[0m\n\u001b[0m\u001b[1;32m    940\u001b[0m \u001b[0;34m\u001b[0m\u001b[0m\n\u001b[1;32m    941\u001b[0m         \u001b[0;32mif\u001b[0m \u001b[0mself\u001b[0m\u001b[0;34m.\u001b[0m\u001b[0moptions\u001b[0m\u001b[0;34m.\u001b[0m\u001b[0mget\u001b[0m\u001b[0;34m(\u001b[0m\u001b[0;34m'as_recarray'\u001b[0m\u001b[0;34m)\u001b[0m\u001b[0;34m:\u001b[0m\u001b[0;34m\u001b[0m\u001b[0m\n",
            "\u001b[0;32m~/anaconda3_420/lib/python3.5/site-packages/pandas/io/parsers.py\u001b[0m in \u001b[0;36mread\u001b[0;34m(self, nrows)\u001b[0m\n\u001b[1;32m   1506\u001b[0m     \u001b[0;32mdef\u001b[0m \u001b[0mread\u001b[0m\u001b[0;34m(\u001b[0m\u001b[0mself\u001b[0m\u001b[0;34m,\u001b[0m \u001b[0mnrows\u001b[0m\u001b[0;34m=\u001b[0m\u001b[0;32mNone\u001b[0m\u001b[0;34m)\u001b[0m\u001b[0;34m:\u001b[0m\u001b[0;34m\u001b[0m\u001b[0m\n\u001b[1;32m   1507\u001b[0m         \u001b[0;32mtry\u001b[0m\u001b[0;34m:\u001b[0m\u001b[0;34m\u001b[0m\u001b[0m\n\u001b[0;32m-> 1508\u001b[0;31m             \u001b[0mdata\u001b[0m \u001b[0;34m=\u001b[0m \u001b[0mself\u001b[0m\u001b[0;34m.\u001b[0m\u001b[0m_reader\u001b[0m\u001b[0;34m.\u001b[0m\u001b[0mread\u001b[0m\u001b[0;34m(\u001b[0m\u001b[0mnrows\u001b[0m\u001b[0;34m)\u001b[0m\u001b[0;34m\u001b[0m\u001b[0m\n\u001b[0m\u001b[1;32m   1509\u001b[0m         \u001b[0;32mexcept\u001b[0m \u001b[0mStopIteration\u001b[0m\u001b[0;34m:\u001b[0m\u001b[0;34m\u001b[0m\u001b[0m\n\u001b[1;32m   1510\u001b[0m             \u001b[0;32mif\u001b[0m \u001b[0mself\u001b[0m\u001b[0;34m.\u001b[0m\u001b[0m_first_chunk\u001b[0m\u001b[0;34m:\u001b[0m\u001b[0;34m\u001b[0m\u001b[0m\n",
            "\u001b[0;32mpandas/parser.pyx\u001b[0m in \u001b[0;36mpandas.parser.TextReader.read (pandas/parser.c:10415)\u001b[0;34m()\u001b[0m\n",
            "\u001b[0;32mpandas/parser.pyx\u001b[0m in \u001b[0;36mpandas.parser.TextReader._read_low_memory (pandas/parser.c:10691)\u001b[0;34m()\u001b[0m\n",
            "\u001b[0;32mpandas/parser.pyx\u001b[0m in \u001b[0;36mpandas.parser.TextReader._read_rows (pandas/parser.c:11437)\u001b[0;34m()\u001b[0m\n",
            "\u001b[0;32mpandas/parser.pyx\u001b[0m in \u001b[0;36mpandas.parser.TextReader._tokenize_rows (pandas/parser.c:11308)\u001b[0;34m()\u001b[0m\n",
            "\u001b[0;32mpandas/parser.pyx\u001b[0m in \u001b[0;36mpandas.parser.raise_parser_error (pandas/parser.c:27037)\u001b[0;34m()\u001b[0m\n",
            "\u001b[0;31mCParserError\u001b[0m: Error tokenizing data. C error: Expected 1 fields in line 4, saw 3\n"
          ]
        }
      ]
    },
    {
      "cell_type": "code",
      "metadata": {
        "id": "xuazp1OrTae5",
        "colab_type": "code",
        "trusted": true,
        "colab": {
          "base_uri": "https://localhost:8080/",
          "height": 51
        },
        "outputId": "0e2dc640-a6ad-4884-df24-4dd107d08c8d"
      },
      "source": [
        "!conda install -c conda-forge nvidia-apex"
      ],
      "execution_count": null,
      "outputs": [
        {
          "output_type": "stream",
          "text": [
            "Fetching package metadata ..."
          ],
          "name": "stdout"
        }
      ]
    },
    {
      "cell_type": "code",
      "metadata": {
        "id": "dHFJlQd2ZI7T",
        "colab_type": "code",
        "trusted": false,
        "colab": {}
      },
      "source": [
        ""
      ],
      "execution_count": null,
      "outputs": []
    }
  ]
}